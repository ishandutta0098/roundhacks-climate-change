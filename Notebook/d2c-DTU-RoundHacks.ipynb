{
  "nbformat": 4,
  "nbformat_minor": 0,
  "metadata": {
    "colab": {
      "name": "d2c-DTU-RoundHacks.ipynb",
      "provenance": [],
      "collapsed_sections": []
    },
    "kernelspec": {
      "name": "python3",
      "display_name": "Python 3"
    }
  },
  "cells": [
    {
      "cell_type": "markdown",
      "metadata": {
        "id": "KNbL00c6WduD"
      },
      "source": [
        "## Problem Overview\r\n",
        "Efforts to understand the influence of historical climate change, at global and regional levels, have been increasing over the past decade. In particular, the estimates of air temperatures have been considered as a key factor in climate impact studies on agricultural, ecological, environmental, and industrial sectors.\r\n",
        "\r\n",
        "![](https://dphi-courses.s3.ap-south-1.amazonaws.com/Datathons/temperature_change.png)\r\n",
        "\r\n",
        "Mitigating climate change is one of the biggest challenges of humankind. Despite the complexity of predicting the effects of climate change on earth, there is a scientific consensus about its negative impacts. Among them, the affectation of ecosystems, decrease of biodiversity, soil erosion, extreme changes in temperature, sea level rise, and global warming have been identified. Likewise, impacts on the economy, human health, food security and energy consumption are expected.\r\n",
        "\r\n",
        "Specifically, air temperature forecasting has been a crucial climatic factor required for many different applications in areas such as agriculture, industry, energy, environment, tourism, etc. Some of these applications include short-term load forecasting for power utilities, air conditioning and solar energy systems development, adaptive temperature control in greenhouses, prediction and assessment of natural hazards, and prediction of cooling and energy consumption in residential buildings. Therefore, there is a need to accurately predict temperature values because, in combination with the analysis of additional features in the subject of interest, they would help to establish a planning horizon for infrastructure upgrades, insurance, energy policy, and business development. [source of information: mdpi]\r\n",
        "\r\n",
        "## Objective\r\n",
        "Build a Machine Learning model to predict the future temperature of the city.\r\n",
        "\r\n",
        "## Evaluation Criteria\r\n",
        "Submissions are evaluated using the Root Mean Squared Error (RMSE).\r\n",
        "\r\n",
        "![](https://dphi-courses.s3.ap-south-1.amazonaws.com/Datathons/rmse+formula.png)\r\n",
        "\r\n"
      ]
    },
    {
      "cell_type": "markdown",
      "metadata": {
        "id": "CWcX8sgfW9vF"
      },
      "source": [
        "## About the Dataset\r\n",
        "The train dataset contains the per day temperature values of the city - ‘XYZ’ for 30 years (1980 - 2010). The test set contains per day dates for the years 2011 - 2020 for which you will be predicting the temperature using the model you have built using the train dataset.\r\n",
        "\r\n",
        "You can download the datasets from the given links:\r\n",
        "\r\n",
        "- train - You can download the train dataset from [here](https://dphi-courses.s3.ap-south-1.amazonaws.com/data-science-challenges/DTU_RoundTable/new_train.csv). Use this data to build machine learning models.\r\n",
        "- test - You can download the test dataset from [here](https://dphi-courses.s3.ap-south-1.amazonaws.com/data-science-challenges/DTU_RoundTable/new_test.csv). Predict the target values for this data using the model you built with the train data.\r\n",
        "- sample_submission: This is a csv file that contains the sample submission for the challenge. You can download the file from [here](https://dphi-courses.s3.ap-south-1.amazonaws.com/data-science-challenges/DTU_RoundTable/sample_submission.csv)."
      ]
    },
    {
      "cell_type": "markdown",
      "metadata": {
        "id": "HkB1nBNwXUZZ"
      },
      "source": [
        "## Data Description\r\n",
        "`date`: date on which the temperature was observed  \r\n",
        "`temp`: observed temperature on the given date\r\n",
        "\r\n"
      ]
    },
    {
      "cell_type": "markdown",
      "metadata": {
        "id": "NPWJLN7hXcT-"
      },
      "source": [
        "## What to Expect from this Notebook?\r\n",
        "\r\n",
        "This notebook includes detailed exlanations and implementations of state-of-the-art Time Series Firecasting Algorithms. There are many variations of the algorithms, I have only shown a few. \r\n",
        "\r\n",
        "I have linked some great resources to most of the stuff in this notebook so that you can have loads of materials and examples to learn from. Some of these resources were even used by me to learn these concepts."
      ]
    },
    {
      "cell_type": "markdown",
      "metadata": {
        "id": "1Ke3wT3wmOlw"
      },
      "source": [
        "## Mount Drive"
      ]
    },
    {
      "cell_type": "code",
      "metadata": {
        "colab": {
          "base_uri": "https://localhost:8080/"
        },
        "id": "tsrMdH62mIN5",
        "outputId": "5694dd19-8ae5-4c1b-a01e-472b53d00fb5"
      },
      "source": [
        "from google.colab import drive\r\n",
        "drive.mount('/content/drive')\r\n",
        "\r\n",
        "from google.colab import files"
      ],
      "execution_count": 1,
      "outputs": [
        {
          "output_type": "stream",
          "text": [
            "Mounted at /content/drive\n"
          ],
          "name": "stdout"
        }
      ]
    },
    {
      "cell_type": "markdown",
      "metadata": {
        "id": "_cLJAho-m99i"
      },
      "source": [
        "## Libraries"
      ]
    },
    {
      "cell_type": "code",
      "metadata": {
        "id": "Y0STprYqm9dg"
      },
      "source": [
        "#Import Libraries\r\n",
        "\r\n",
        "import pandas as pd\r\n",
        "import numpy as np\r\n",
        "\r\n",
        "#Data Visualization\r\n",
        "import seaborn as sns\r\n",
        "import matplotlib.pyplot as plt\r\n",
        "%matplotlib inline\r\n",
        "plt.style.use('seaborn-dark')\r\n",
        "\r\n",
        "#DateTime\r\n",
        "import datetime as dt\r\n",
        "\r\n",
        "#Models\r\n",
        "from sklearn.linear_model import LinearRegression\r\n",
        "from lightgbm import LGBMRegressor\r\n",
        "\r\n",
        "#SKLearn\r\n",
        "from sklearn.metrics import mean_squared_error\r\n",
        "from sklearn.model_selection import KFold, cross_val_score, StratifiedKFold, train_test_split\r\n",
        "from sklearn.preprocessing import StandardScaler\r\n",
        "\r\n",
        "#Time to run Program\r\n",
        "import time "
      ],
      "execution_count": 104,
      "outputs": []
    },
    {
      "cell_type": "markdown",
      "metadata": {
        "id": "8W1wNztKmi3q"
      },
      "source": [
        "## Load Data"
      ]
    },
    {
      "cell_type": "code",
      "metadata": {
        "id": "aq1voJAOmXUm"
      },
      "source": [
        "def load_data():\r\n",
        "  '''\r\n",
        "  Function to Load the Train, Test and Submission Data\r\n",
        "\r\n",
        "  returns: train, test, submission dataframes\r\n",
        "  '''  \r\n",
        "\r\n",
        "  train = pd.read_csv('/content/drive/MyDrive/Data Science/dare2compete/DTU RoundHacks Data Science Hackathon/new_train.csv')\r\n",
        "  test = pd.read_csv('/content/drive/MyDrive/Data Science/dare2compete/DTU RoundHacks Data Science Hackathon/new_test.csv')\r\n",
        "  submission = pd.read_csv('/content/drive/MyDrive/Data Science/dare2compete/DTU RoundHacks Data Science Hackathon/sample_submission.csv')\r\n",
        "\r\n",
        "  return train, test, submission"
      ],
      "execution_count": 4,
      "outputs": []
    },
    {
      "cell_type": "code",
      "metadata": {
        "id": "GaE1HEQhPhyn"
      },
      "source": [
        "#Declare Traget and Feature\r\n",
        "TARGET = 'temp'\r\n",
        "feature = ['date']"
      ],
      "execution_count": 12,
      "outputs": []
    },
    {
      "cell_type": "code",
      "metadata": {
        "id": "ULOAYmTwPaCp"
      },
      "source": [
        "train, test, submission = load_data()"
      ],
      "execution_count": 56,
      "outputs": []
    },
    {
      "cell_type": "code",
      "metadata": {
        "colab": {
          "base_uri": "https://localhost:8080/",
          "height": 191
        },
        "id": "s1rrcooxnaps",
        "outputId": "120fb9e1-14a2-4170-ae13-0b777f2a22d6"
      },
      "source": [
        "train.head()"
      ],
      "execution_count": 6,
      "outputs": [
        {
          "output_type": "execute_result",
          "data": {
            "text/html": [
              "<div>\n",
              "<style scoped>\n",
              "    .dataframe tbody tr th:only-of-type {\n",
              "        vertical-align: middle;\n",
              "    }\n",
              "\n",
              "    .dataframe tbody tr th {\n",
              "        vertical-align: top;\n",
              "    }\n",
              "\n",
              "    .dataframe thead th {\n",
              "        text-align: right;\n",
              "    }\n",
              "</style>\n",
              "<table border=\"1\" class=\"dataframe\">\n",
              "  <thead>\n",
              "    <tr style=\"text-align: right;\">\n",
              "      <th></th>\n",
              "      <th>date</th>\n",
              "      <th>temp</th>\n",
              "    </tr>\n",
              "  </thead>\n",
              "  <tbody>\n",
              "    <tr>\n",
              "      <th>0</th>\n",
              "      <td>01-01-1980</td>\n",
              "      <td>4.16</td>\n",
              "    </tr>\n",
              "    <tr>\n",
              "      <th>1</th>\n",
              "      <td>02-01-1980</td>\n",
              "      <td>4.06</td>\n",
              "    </tr>\n",
              "    <tr>\n",
              "      <th>2</th>\n",
              "      <td>03-01-1980</td>\n",
              "      <td>7.12</td>\n",
              "    </tr>\n",
              "    <tr>\n",
              "      <th>3</th>\n",
              "      <td>04-01-1980</td>\n",
              "      <td>9.23</td>\n",
              "    </tr>\n",
              "    <tr>\n",
              "      <th>4</th>\n",
              "      <td>05-01-1980</td>\n",
              "      <td>3.20</td>\n",
              "    </tr>\n",
              "  </tbody>\n",
              "</table>\n",
              "</div>"
            ],
            "text/plain": [
              "         date  temp\n",
              "0  01-01-1980  4.16\n",
              "1  02-01-1980  4.06\n",
              "2  03-01-1980  7.12\n",
              "3  04-01-1980  9.23\n",
              "4  05-01-1980  3.20"
            ]
          },
          "metadata": {
            "tags": []
          },
          "execution_count": 6
        }
      ]
    },
    {
      "cell_type": "code",
      "metadata": {
        "colab": {
          "base_uri": "https://localhost:8080/",
          "height": 191
        },
        "id": "2TjtypcYneNe",
        "outputId": "a41e31ab-9712-449f-f00b-43b98a96c02d"
      },
      "source": [
        "test.head()"
      ],
      "execution_count": 7,
      "outputs": [
        {
          "output_type": "execute_result",
          "data": {
            "text/html": [
              "<div>\n",
              "<style scoped>\n",
              "    .dataframe tbody tr th:only-of-type {\n",
              "        vertical-align: middle;\n",
              "    }\n",
              "\n",
              "    .dataframe tbody tr th {\n",
              "        vertical-align: top;\n",
              "    }\n",
              "\n",
              "    .dataframe thead th {\n",
              "        text-align: right;\n",
              "    }\n",
              "</style>\n",
              "<table border=\"1\" class=\"dataframe\">\n",
              "  <thead>\n",
              "    <tr style=\"text-align: right;\">\n",
              "      <th></th>\n",
              "      <th>date</th>\n",
              "    </tr>\n",
              "  </thead>\n",
              "  <tbody>\n",
              "    <tr>\n",
              "      <th>0</th>\n",
              "      <td>01-01-2011</td>\n",
              "    </tr>\n",
              "    <tr>\n",
              "      <th>1</th>\n",
              "      <td>02-01-2011</td>\n",
              "    </tr>\n",
              "    <tr>\n",
              "      <th>2</th>\n",
              "      <td>03-01-2011</td>\n",
              "    </tr>\n",
              "    <tr>\n",
              "      <th>3</th>\n",
              "      <td>04-01-2011</td>\n",
              "    </tr>\n",
              "    <tr>\n",
              "      <th>4</th>\n",
              "      <td>05-01-2011</td>\n",
              "    </tr>\n",
              "  </tbody>\n",
              "</table>\n",
              "</div>"
            ],
            "text/plain": [
              "         date\n",
              "0  01-01-2011\n",
              "1  02-01-2011\n",
              "2  03-01-2011\n",
              "3  04-01-2011\n",
              "4  05-01-2011"
            ]
          },
          "metadata": {
            "tags": []
          },
          "execution_count": 7
        }
      ]
    },
    {
      "cell_type": "code",
      "metadata": {
        "colab": {
          "base_uri": "https://localhost:8080/",
          "height": 191
        },
        "id": "c2LhCUPTngOn",
        "outputId": "45623dbe-4b64-4bef-962d-ac65c972a7e9"
      },
      "source": [
        "submission.head()"
      ],
      "execution_count": 8,
      "outputs": [
        {
          "output_type": "execute_result",
          "data": {
            "text/html": [
              "<div>\n",
              "<style scoped>\n",
              "    .dataframe tbody tr th:only-of-type {\n",
              "        vertical-align: middle;\n",
              "    }\n",
              "\n",
              "    .dataframe tbody tr th {\n",
              "        vertical-align: top;\n",
              "    }\n",
              "\n",
              "    .dataframe thead th {\n",
              "        text-align: right;\n",
              "    }\n",
              "</style>\n",
              "<table border=\"1\" class=\"dataframe\">\n",
              "  <thead>\n",
              "    <tr style=\"text-align: right;\">\n",
              "      <th></th>\n",
              "      <th>prediction</th>\n",
              "    </tr>\n",
              "  </thead>\n",
              "  <tbody>\n",
              "    <tr>\n",
              "      <th>0</th>\n",
              "      <td>5.57</td>\n",
              "    </tr>\n",
              "    <tr>\n",
              "      <th>1</th>\n",
              "      <td>5.57</td>\n",
              "    </tr>\n",
              "    <tr>\n",
              "      <th>2</th>\n",
              "      <td>5.57</td>\n",
              "    </tr>\n",
              "    <tr>\n",
              "      <th>3</th>\n",
              "      <td>5.57</td>\n",
              "    </tr>\n",
              "    <tr>\n",
              "      <th>4</th>\n",
              "      <td>5.57</td>\n",
              "    </tr>\n",
              "  </tbody>\n",
              "</table>\n",
              "</div>"
            ],
            "text/plain": [
              "   prediction\n",
              "0        5.57\n",
              "1        5.57\n",
              "2        5.57\n",
              "3        5.57\n",
              "4        5.57"
            ]
          },
          "metadata": {
            "tags": []
          },
          "execution_count": 8
        }
      ]
    },
    {
      "cell_type": "markdown",
      "metadata": {
        "id": "bFc0nHWInXzq"
      },
      "source": [
        "## Functions"
      ]
    },
    {
      "cell_type": "code",
      "metadata": {
        "id": "e1mfFJbxnVTY"
      },
      "source": [
        "#RMSE\r\n",
        "def rmse():\r\n",
        "  y_pred = train.iloc[10000:11322, 2]\r\n",
        "  y = train.iloc[10000:11322, 0]\r\n",
        "  metric = np.sqrt(mean_squared_error(y, y_pred))\r\n",
        "  print(f\"RMSE of Data is: {metric}\")\r\n",
        "\r\n",
        "#Hackathon Metric\r\n",
        "def predict(model, model_features):\r\n",
        "  pred_train = model.predict(X_train[model_features])\r\n",
        "  pred_val = model.predict(X_val[model_features])\r\n",
        "\r\n",
        "  print(f\"Train RMSE = {np.sqrt(mean_squared_error(y_train, pred_train))}\")\r\n",
        "  print(f\"Test RMSE = {np.sqrt(mean_squared_error(y_val, pred_val))}\")\r\n",
        "\r\n",
        "def run_gradient_boosting(clf, fit_params, train, test, features):\r\n",
        "  N_SPLITS = 5\r\n",
        "  oofs = np.zeros(len(train))\r\n",
        "  preds = np.zeros((len(test)))\r\n",
        "\r\n",
        "  target = train[TARGET]\r\n",
        "\r\n",
        "  folds = StratifiedKFold(n_splits = N_SPLITS)\r\n",
        "  stratified_target = pd.qcut(train[TARGET], 10, labels = False, duplicates='drop')\r\n",
        "\r\n",
        "  feature_importances = pd.DataFrame()\r\n",
        "\r\n",
        "  for fold_, (trn_idx, val_idx) in enumerate(folds.split(train, stratified_target)):\r\n",
        "    print(f'\\n------------- Fold {fold_ + 1} -------------')\r\n",
        "\r\n",
        "    ### Training Set\r\n",
        "    X_trn, y_trn = train[features].iloc[trn_idx], target.iloc[trn_idx]\r\n",
        "\r\n",
        "    ### Validation Set\r\n",
        "    X_val, y_val = train[features].iloc[val_idx], target.iloc[val_idx]\r\n",
        "\r\n",
        "    ### Test Set\r\n",
        "    X_test = test[features]\r\n",
        "\r\n",
        "    scaler = StandardScaler()\r\n",
        "    _ = scaler.fit(X_trn)\r\n",
        "\r\n",
        "    X_trn = scaler.transform(X_trn)\r\n",
        "    X_val = scaler.transform(X_val)\r\n",
        "    X_test = scaler.transform(X_test)\r\n",
        "    \r\n",
        "    _ = clf.fit(X_trn, y_trn, eval_set = [(X_val, y_val)], **fit_params)\r\n",
        "\r\n",
        "    fold_importance = pd.DataFrame({'fold': fold_ + 1, 'feature': features, 'importance': clf.feature_importances_})\r\n",
        "    feature_importances = pd.concat([feature_importances, fold_importance], axis=0)\r\n",
        "\r\n",
        "    ### Instead of directly predicting the classes we will obtain the probability of positive class.\r\n",
        "    preds_val = clf.predict(X_val)\r\n",
        "    preds_test = clf.predict(X_test)\r\n",
        "\r\n",
        "    fold_score = metric(y_val, preds_val)\r\n",
        "    print(f'\\nRMSE score for validation set is {fold_score}')\r\n",
        "\r\n",
        "    oofs[val_idx] = preds_val\r\n",
        "    preds += preds_test / N_SPLITS\r\n",
        "\r\n",
        "\r\n",
        "  oofs_score = metric(target, oofs)\r\n",
        "  print(f'\\n\\nRMSE for oofs is {oofs_score}')\r\n",
        "\r\n",
        "  feature_importances = feature_importances.reset_index(drop = True)\r\n",
        "  fi = feature_importances.groupby('feature')['importance'].mean().sort_values(ascending = False)[:20][::-1]\r\n",
        "  fi.plot(kind = 'barh', figsize=(12, 6))\r\n",
        "\r\n",
        "  return oofs, preds, fi\r\n",
        "\r\n",
        "def metric(y_true, y_pred):\r\n",
        "  return np.sqrt(mean_squared_error(y_true, y_pred))\r\n",
        "\r\n",
        "def download_preds(preds_test, file_name = 'hacklive_sub.csv'):\r\n",
        "\r\n",
        "  ## 1. Setting the target column with our obtained predictions\r\n",
        "  submission['prediction'] = preds_test\r\n",
        "\r\n",
        "  ## 2. Saving our predictions to a csv file\r\n",
        "\r\n",
        "  submission.to_csv(file_name, index = False)\r\n",
        "\r\n",
        "  ## 3. Downloading and submitting the csv file\r\n",
        "  from google.colab import files\r\n",
        "  files.download(file_name)\r\n",
        "\r\n",
        "#Download Submission File\r\n",
        "def download(model, model_features, file_name = 'prophet.csv'):\r\n",
        "\r\n",
        "  pred_test = model.predict(model_features)\r\n",
        "\r\n",
        "  #Setting the target column with our obtained predictions\r\n",
        "  submission['prediction'] = pred_test\r\n",
        "\r\n",
        "  #Saving our predictions to a csv file\r\n",
        "  submission.to_csv(file_name, index = False)\r\n",
        "  \r\n",
        "  #Downloadingthe csv file\r\n",
        "  files.download(file_name)\r\n",
        "\r\n",
        "def join_df(train, test):\r\n",
        "\r\n",
        "  df = pd.concat([train, test], axis=0).reset_index(drop = True)\r\n",
        "  features = [c for c in df.columns if c not in [feature, TARGET]]\r\n",
        "  df[TARGET] = df[TARGET].apply(lambda x: np.log1p(x))\r\n",
        "\r\n",
        "  return df, features\r\n",
        "\r\n",
        "def split_df_and_get_features(df, train_nrows):\r\n",
        "\r\n",
        "  train, test = df[:train_nrows].reset_index(drop = True), df[train_nrows:].reset_index(drop = True)\r\n",
        "  features = [c for c in train.columns if c not in [feature, TARGET]]\r\n",
        "  \r\n",
        "  return train, test, features"
      ],
      "execution_count": 10,
      "outputs": []
    },
    {
      "cell_type": "markdown",
      "metadata": {
        "id": "hx1wbTE_nsaO"
      },
      "source": [
        "## EDA and Data Preprocessing"
      ]
    },
    {
      "cell_type": "code",
      "metadata": {
        "id": "BjnhxR78qjpH"
      },
      "source": [
        "#Combine Train and Test Dataframe\r\n",
        "df, features = join_df(train, test)"
      ],
      "execution_count": 57,
      "outputs": []
    },
    {
      "cell_type": "code",
      "metadata": {
        "colab": {
          "base_uri": "https://localhost:8080/",
          "height": 191
        },
        "id": "S54k5KOLPqK7",
        "outputId": "2ddab94d-6bea-4e10-e105-c635f245d5bb"
      },
      "source": [
        "df.head()"
      ],
      "execution_count": 14,
      "outputs": [
        {
          "output_type": "execute_result",
          "data": {
            "text/html": [
              "<div>\n",
              "<style scoped>\n",
              "    .dataframe tbody tr th:only-of-type {\n",
              "        vertical-align: middle;\n",
              "    }\n",
              "\n",
              "    .dataframe tbody tr th {\n",
              "        vertical-align: top;\n",
              "    }\n",
              "\n",
              "    .dataframe thead th {\n",
              "        text-align: right;\n",
              "    }\n",
              "</style>\n",
              "<table border=\"1\" class=\"dataframe\">\n",
              "  <thead>\n",
              "    <tr style=\"text-align: right;\">\n",
              "      <th></th>\n",
              "      <th>date</th>\n",
              "      <th>temp</th>\n",
              "    </tr>\n",
              "  </thead>\n",
              "  <tbody>\n",
              "    <tr>\n",
              "      <th>0</th>\n",
              "      <td>01-01-1980</td>\n",
              "      <td>1.640937</td>\n",
              "    </tr>\n",
              "    <tr>\n",
              "      <th>1</th>\n",
              "      <td>02-01-1980</td>\n",
              "      <td>1.621366</td>\n",
              "    </tr>\n",
              "    <tr>\n",
              "      <th>2</th>\n",
              "      <td>03-01-1980</td>\n",
              "      <td>2.094330</td>\n",
              "    </tr>\n",
              "    <tr>\n",
              "      <th>3</th>\n",
              "      <td>04-01-1980</td>\n",
              "      <td>2.325325</td>\n",
              "    </tr>\n",
              "    <tr>\n",
              "      <th>4</th>\n",
              "      <td>05-01-1980</td>\n",
              "      <td>1.435085</td>\n",
              "    </tr>\n",
              "  </tbody>\n",
              "</table>\n",
              "</div>"
            ],
            "text/plain": [
              "         date      temp\n",
              "0  01-01-1980  1.640937\n",
              "1  02-01-1980  1.621366\n",
              "2  03-01-1980  2.094330\n",
              "3  04-01-1980  2.325325\n",
              "4  05-01-1980  1.435085"
            ]
          },
          "metadata": {
            "tags": []
          },
          "execution_count": 14
        }
      ]
    },
    {
      "cell_type": "markdown",
      "metadata": {
        "id": "UsTjm49on2Na"
      },
      "source": [
        "### Data Details"
      ]
    },
    {
      "cell_type": "code",
      "metadata": {
        "colab": {
          "base_uri": "https://localhost:8080/"
        },
        "id": "1oL9DRHzn5BO",
        "outputId": "5294efe7-2f59-4ac4-b268-5e94075c9826"
      },
      "source": [
        "print(f\"train.shape: {train.shape}\")\r\n",
        "print(f\"test.shape: {test.shape}\")"
      ],
      "execution_count": 15,
      "outputs": [
        {
          "output_type": "stream",
          "text": [
            "train.shape: (11323, 2)\n",
            "test.shape: (3561, 1)\n"
          ],
          "name": "stdout"
        }
      ]
    },
    {
      "cell_type": "code",
      "metadata": {
        "colab": {
          "base_uri": "https://localhost:8080/",
          "height": 277
        },
        "id": "VYqxLm6OoDih",
        "outputId": "11821c39-2f2c-4e2f-9fb4-54c055bee726"
      },
      "source": [
        "train.describe()"
      ],
      "execution_count": 16,
      "outputs": [
        {
          "output_type": "execute_result",
          "data": {
            "text/html": [
              "<div>\n",
              "<style scoped>\n",
              "    .dataframe tbody tr th:only-of-type {\n",
              "        vertical-align: middle;\n",
              "    }\n",
              "\n",
              "    .dataframe tbody tr th {\n",
              "        vertical-align: top;\n",
              "    }\n",
              "\n",
              "    .dataframe thead th {\n",
              "        text-align: right;\n",
              "    }\n",
              "</style>\n",
              "<table border=\"1\" class=\"dataframe\">\n",
              "  <thead>\n",
              "    <tr style=\"text-align: right;\">\n",
              "      <th></th>\n",
              "      <th>temp</th>\n",
              "    </tr>\n",
              "  </thead>\n",
              "  <tbody>\n",
              "    <tr>\n",
              "      <th>count</th>\n",
              "      <td>11323.000000</td>\n",
              "    </tr>\n",
              "    <tr>\n",
              "      <th>mean</th>\n",
              "      <td>15.573259</td>\n",
              "    </tr>\n",
              "    <tr>\n",
              "      <th>std</th>\n",
              "      <td>7.877191</td>\n",
              "    </tr>\n",
              "    <tr>\n",
              "      <th>min</th>\n",
              "      <td>-5.110000</td>\n",
              "    </tr>\n",
              "    <tr>\n",
              "      <th>25%</th>\n",
              "      <td>8.390000</td>\n",
              "    </tr>\n",
              "    <tr>\n",
              "      <th>50%</th>\n",
              "      <td>15.990000</td>\n",
              "    </tr>\n",
              "    <tr>\n",
              "      <th>75%</th>\n",
              "      <td>22.055000</td>\n",
              "    </tr>\n",
              "    <tr>\n",
              "      <th>max</th>\n",
              "      <td>32.390000</td>\n",
              "    </tr>\n",
              "  </tbody>\n",
              "</table>\n",
              "</div>"
            ],
            "text/plain": [
              "               temp\n",
              "count  11323.000000\n",
              "mean      15.573259\n",
              "std        7.877191\n",
              "min       -5.110000\n",
              "25%        8.390000\n",
              "50%       15.990000\n",
              "75%       22.055000\n",
              "max       32.390000"
            ]
          },
          "metadata": {
            "tags": []
          },
          "execution_count": 16
        }
      ]
    },
    {
      "cell_type": "code",
      "metadata": {
        "colab": {
          "base_uri": "https://localhost:8080/"
        },
        "id": "wUcla5jyrpA1",
        "outputId": "b47fc6de-e821-47b0-c6fb-20805f60e329"
      },
      "source": [
        "#Check Datatypes\r\n",
        "train.dtypes"
      ],
      "execution_count": 17,
      "outputs": [
        {
          "output_type": "execute_result",
          "data": {
            "text/plain": [
              "date     object\n",
              "temp    float64\n",
              "dtype: object"
            ]
          },
          "metadata": {
            "tags": []
          },
          "execution_count": 17
        }
      ]
    },
    {
      "cell_type": "markdown",
      "metadata": {
        "id": "q5Og71ZfPwm5"
      },
      "source": [
        "Datatype of `date` is incorrect. It should be datetime. We will correct it in a later stage."
      ]
    },
    {
      "cell_type": "markdown",
      "metadata": {
        "id": "UcPPi64eokYe"
      },
      "source": [
        "### Null Values"
      ]
    },
    {
      "cell_type": "code",
      "metadata": {
        "colab": {
          "base_uri": "https://localhost:8080/"
        },
        "id": "ZXT305YRoNil",
        "outputId": "2d383bca-26ef-497b-82a8-2a8d8a9e2b71"
      },
      "source": [
        "print(f\"Train Null Value Count: {train.isnull().sum()}\")\r\n",
        "print(f\"Test Null Value Count: {test.isnull().sum()}\")"
      ],
      "execution_count": 51,
      "outputs": [
        {
          "output_type": "stream",
          "text": [
            "Train Null Value Count: date    0\n",
            "temp    0\n",
            "dtype: int64\n",
            "Test Null Value Count: date    0\n",
            "dtype: int64\n"
          ],
          "name": "stdout"
        }
      ]
    },
    {
      "cell_type": "markdown",
      "metadata": {
        "id": "zJsfFYc9P71i"
      },
      "source": [
        "Thus, Training Data does not have any null values."
      ]
    },
    {
      "cell_type": "markdown",
      "metadata": {
        "id": "OnsmtAsCnww9"
      },
      "source": [
        "### Target Distribution"
      ]
    },
    {
      "cell_type": "markdown",
      "metadata": {
        "id": "sO1Y8BrwQB_c"
      },
      "source": [
        "Let us check the distribution of the TARGET i.e., Temperature."
      ]
    },
    {
      "cell_type": "code",
      "metadata": {
        "colab": {
          "base_uri": "https://localhost:8080/",
          "height": 406
        },
        "id": "seMl43Kknvq3",
        "outputId": "564fc302-5b31-4e4a-8cd1-e2d90dba80f1"
      },
      "source": [
        "#Temperature Distribution\r\n",
        "train[TARGET].plot(kind = 'density', title = 'Temperature Distribution', fontsize=14, figsize=(10, 6))"
      ],
      "execution_count": 20,
      "outputs": [
        {
          "output_type": "execute_result",
          "data": {
            "text/plain": [
              "<matplotlib.axes._subplots.AxesSubplot at 0x7f39c06257d0>"
            ]
          },
          "metadata": {
            "tags": []
          },
          "execution_count": 20
        },
        {
          "output_type": "display_data",
          "data": {
            "image/png": "[encoded data removed]",
            "text/plain": [
              "<Figure size 720x432 with 1 Axes>"
            ]
          },
          "metadata": {
            "tags": []
          }
        }
      ]
    },
    {
      "cell_type": "code",
      "metadata": {
        "colab": {
          "base_uri": "https://localhost:8080/",
          "height": 422
        },
        "id": "jenNSYrapeyi",
        "outputId": "8e7bf037-6c3e-4ccd-f25d-464f339efb4c"
      },
      "source": [
        "#Log Temperature Distribution\r\n",
        "_ = pd.Series(np.log1p(train[TARGET])).plot(kind = 'density', title = 'Log Temperature Distribution', fontsize=14, figsize=(10, 6))"
      ],
      "execution_count": 22,
      "outputs": [
        {
          "output_type": "stream",
          "text": [
            "/usr/local/lib/python3.7/dist-packages/pandas/core/series.py:726: RuntimeWarning: invalid value encountered in log1p\n",
            "  result = getattr(ufunc, method)(*inputs, **kwargs)\n"
          ],
          "name": "stderr"
        },
        {
          "output_type": "display_data",
          "data": {
            "image/png": "[encoded data removed]",
            "text/plain": [
              "<Figure size 720x432 with 1 Axes>"
            ]
          },
          "metadata": {
            "tags": []
          }
        }
      ]
    },
    {
      "cell_type": "code",
      "metadata": {
        "colab": {
          "base_uri": "https://localhost:8080/",
          "height": 297
        },
        "id": "lUTs0HwGpnvm",
        "outputId": "9b68361b-93a2-475c-de36-fde2adabe943"
      },
      "source": [
        "#Temperature Boxplot\r\n",
        "train[TARGET].plot(kind = 'box', vert=False, figsize=(12, 4), title = 'Temperature Boxplot', fontsize=14)"
      ],
      "execution_count": 23,
      "outputs": [
        {
          "output_type": "execute_result",
          "data": {
            "text/plain": [
              "<matplotlib.axes._subplots.AxesSubplot at 0x7f39c002b850>"
            ]
          },
          "metadata": {
            "tags": []
          },
          "execution_count": 23
        },
        {
          "output_type": "display_data",
          "data": {
            "image/png": "[encoded data removed]",
            "text/plain": [
              "<Figure size 864x288 with 1 Axes>"
            ]
          },
          "metadata": {
            "tags": []
          }
        }
      ]
    },
    {
      "cell_type": "code",
      "metadata": {
        "colab": {
          "base_uri": "https://localhost:8080/",
          "height": 330
        },
        "id": "8sNuujjvprvt",
        "outputId": "115fc276-0cb8-4980-c40a-6ffc8f2feb53"
      },
      "source": [
        "#Log Temperature BoxPlot\r\n",
        "pd.Series(np.log1p(train[TARGET])).plot(kind = 'box', vert=False, figsize=(12, 4), title = 'Log Temperature Boxplot', fontsize=14)"
      ],
      "execution_count": 24,
      "outputs": [
        {
          "output_type": "stream",
          "text": [
            "/usr/local/lib/python3.7/dist-packages/pandas/core/series.py:726: RuntimeWarning: invalid value encountered in log1p\n",
            "  result = getattr(ufunc, method)(*inputs, **kwargs)\n"
          ],
          "name": "stderr"
        },
        {
          "output_type": "execute_result",
          "data": {
            "text/plain": [
              "<matplotlib.axes._subplots.AxesSubplot at 0x7f39bffa0d10>"
            ]
          },
          "metadata": {
            "tags": []
          },
          "execution_count": 24
        },
        {
          "output_type": "display_data",
          "data": {
            "image/png": "[encoded data removed]",
            "text/plain": [
              "<Figure size 864x288 with 1 Axes>"
            ]
          },
          "metadata": {
            "tags": []
          }
        }
      ]
    },
    {
      "cell_type": "markdown",
      "metadata": {
        "id": "MpIlc9gUrmAZ"
      },
      "source": [
        "## Date Feature"
      ]
    },
    {
      "cell_type": "markdown",
      "metadata": {
        "id": "dy0pB7VRQdI6"
      },
      "source": [
        "Now we shall create some features using the `date` column."
      ]
    },
    {
      "cell_type": "code",
      "metadata": {
        "colab": {
          "base_uri": "https://localhost:8080/"
        },
        "id": "Y5QAvXlSrwKA",
        "outputId": "9d4e6802-2829-4b31-9630-343127c47e31"
      },
      "source": [
        "#Convert `date` column datatype to `datetime`\r\n",
        "df['date'] = pd.to_datetime(df['date'])\r\n",
        "\r\n",
        "df.dtypes"
      ],
      "execution_count": 58,
      "outputs": [
        {
          "output_type": "execute_result",
          "data": {
            "text/plain": [
              "date    datetime64[ns]\n",
              "temp           float64\n",
              "dtype: object"
            ]
          },
          "metadata": {
            "tags": []
          },
          "execution_count": 58
        }
      ]
    },
    {
      "cell_type": "code",
      "metadata": {
        "colab": {
          "base_uri": "https://localhost:8080/"
        },
        "id": "JbD-6F86SjjQ",
        "outputId": "d4f6ee5b-0c09-42c9-a190-7ac7ca0c9966"
      },
      "source": [
        "print(f\"Train Null Value Count: {train.isnull().sum()}\")\r\n",
        "print(f\"Test Null Value Count: {test.isnull().sum()}\")"
      ],
      "execution_count": 64,
      "outputs": [
        {
          "output_type": "stream",
          "text": [
            "Train Null Value Count: date      0\n",
            "temp     15\n",
            "year      0\n",
            "month     0\n",
            "week      0\n",
            "dtype: int64\n",
            "Test Null Value Count: date        0\n",
            "temp     3561\n",
            "year        0\n",
            "month       0\n",
            "week        0\n",
            "dtype: int64\n"
          ],
          "name": "stdout"
        }
      ]
    },
    {
      "cell_type": "code",
      "metadata": {
        "colab": {
          "base_uri": "https://localhost:8080/"
        },
        "id": "GJylFlFFsRV4",
        "outputId": "cd95972e-cf86-4664-ad76-1daab0a075bd"
      },
      "source": [
        "#Make basic datetime features\r\n",
        "# df['day_of_week'] = df['date'].dt.dayofweek\r\n",
        "df['year'] = df['date'].dt.year\r\n",
        "df['month'] = df['date'].dt.month\r\n",
        "df['week'] = df['date'].dt.isocalendar().week  \r\n",
        "\r\n",
        "#Get Train and Test sets from df\r\n",
        "train, test, features = split_df_and_get_features(df, train.shape[0])\r\n",
        "\r\n",
        "#Define the features\r\n",
        "features = [c for c in df.columns if c not in [feature, TARGET]]\r\n",
        "features = features[1:]\r\n",
        "features"
      ],
      "execution_count": 63,
      "outputs": [
        {
          "output_type": "execute_result",
          "data": {
            "text/plain": [
              "['year', 'month', 'week']"
            ]
          },
          "metadata": {
            "tags": []
          },
          "execution_count": 63
        }
      ]
    },
    {
      "cell_type": "markdown",
      "metadata": {
        "id": "x4LlOthYYQrq"
      },
      "source": [
        "There are many more functions in `datetime` library which you can try out for yourself. Check the [documentation](https://docs.python.org/3/library/datetime.html) for more such functions."
      ]
    },
    {
      "cell_type": "code",
      "metadata": {
        "colab": {
          "base_uri": "https://localhost:8080/",
          "height": 191
        },
        "id": "e6e9wLaeuIkB",
        "outputId": "8d445384-36b3-4e87-a0ef-1d95a7403ff7"
      },
      "source": [
        "df.head()"
      ],
      "execution_count": null,
      "outputs": [
        {
          "output_type": "execute_result",
          "data": {
            "text/html": [
              "<div>\n",
              "<style scoped>\n",
              "    .dataframe tbody tr th:only-of-type {\n",
              "        vertical-align: middle;\n",
              "    }\n",
              "\n",
              "    .dataframe tbody tr th {\n",
              "        vertical-align: top;\n",
              "    }\n",
              "\n",
              "    .dataframe thead th {\n",
              "        text-align: right;\n",
              "    }\n",
              "</style>\n",
              "<table border=\"1\" class=\"dataframe\">\n",
              "  <thead>\n",
              "    <tr style=\"text-align: right;\">\n",
              "      <th></th>\n",
              "      <th>date</th>\n",
              "      <th>temp</th>\n",
              "      <th>day_of_week</th>\n",
              "      <th>year</th>\n",
              "      <th>month</th>\n",
              "      <th>week</th>\n",
              "    </tr>\n",
              "  </thead>\n",
              "  <tbody>\n",
              "    <tr>\n",
              "      <th>0</th>\n",
              "      <td>1980-01-01</td>\n",
              "      <td>4.16</td>\n",
              "      <td>1</td>\n",
              "      <td>1980</td>\n",
              "      <td>1</td>\n",
              "      <td>1</td>\n",
              "    </tr>\n",
              "    <tr>\n",
              "      <th>1</th>\n",
              "      <td>1980-02-01</td>\n",
              "      <td>4.06</td>\n",
              "      <td>4</td>\n",
              "      <td>1980</td>\n",
              "      <td>2</td>\n",
              "      <td>5</td>\n",
              "    </tr>\n",
              "    <tr>\n",
              "      <th>2</th>\n",
              "      <td>1980-03-01</td>\n",
              "      <td>7.12</td>\n",
              "      <td>5</td>\n",
              "      <td>1980</td>\n",
              "      <td>3</td>\n",
              "      <td>9</td>\n",
              "    </tr>\n",
              "    <tr>\n",
              "      <th>3</th>\n",
              "      <td>1980-04-01</td>\n",
              "      <td>9.23</td>\n",
              "      <td>1</td>\n",
              "      <td>1980</td>\n",
              "      <td>4</td>\n",
              "      <td>14</td>\n",
              "    </tr>\n",
              "    <tr>\n",
              "      <th>4</th>\n",
              "      <td>1980-05-01</td>\n",
              "      <td>3.20</td>\n",
              "      <td>3</td>\n",
              "      <td>1980</td>\n",
              "      <td>5</td>\n",
              "      <td>18</td>\n",
              "    </tr>\n",
              "  </tbody>\n",
              "</table>\n",
              "</div>"
            ],
            "text/plain": [
              "        date  temp  day_of_week  year  month  week\n",
              "0 1980-01-01  4.16            1  1980      1     1\n",
              "1 1980-02-01  4.06            4  1980      2     5\n",
              "2 1980-03-01  7.12            5  1980      3     9\n",
              "3 1980-04-01  9.23            1  1980      4    14\n",
              "4 1980-05-01  3.20            3  1980      5    18"
            ]
          },
          "metadata": {
            "tags": []
          },
          "execution_count": 50
        }
      ]
    },
    {
      "cell_type": "code",
      "metadata": {
        "id": "vP6tS8puTxeD"
      },
      "source": [
        "train.fillna(np.mean(train['temp']), inplace=True)"
      ],
      "execution_count": 67,
      "outputs": []
    },
    {
      "cell_type": "markdown",
      "metadata": {
        "id": "Oixq3qzMrRWO"
      },
      "source": [
        "## Model"
      ]
    },
    {
      "cell_type": "code",
      "metadata": {
        "id": "QywQeocmrcqL"
      },
      "source": [
        "#Declare Features and Target from Training Dataset\r\n",
        "X = train[features]\r\n",
        "y = train[TARGET]\r\n",
        "\r\n",
        "#Split Training and Validation Datasets\r\n",
        "X_train, X_val, y_train, y_val = train_test_split(X, y, test_size=0.3, random_state = 42)"
      ],
      "execution_count": 72,
      "outputs": []
    },
    {
      "cell_type": "code",
      "metadata": {
        "colab": {
          "base_uri": "https://localhost:8080/"
        },
        "id": "W0hR9njXSGnD",
        "outputId": "3c0e5241-f40f-494a-94ec-a66e187ed371"
      },
      "source": [
        "X.shape, y.shape"
      ],
      "execution_count": 73,
      "outputs": [
        {
          "output_type": "execute_result",
          "data": {
            "text/plain": [
              "((11323, 3), (11323,))"
            ]
          },
          "metadata": {
            "tags": []
          },
          "execution_count": 73
        }
      ]
    },
    {
      "cell_type": "markdown",
      "metadata": {
        "id": "Uu40Oow-YrvC"
      },
      "source": [
        "We begin with a simple Linear Regression baseline model and then move ahead with more complex algorithms."
      ]
    },
    {
      "cell_type": "markdown",
      "metadata": {
        "id": "obG8eq1Q4o7t"
      },
      "source": [
        "### Linear Regression\r\n",
        "\r\n",
        "Linear regression is a linear model, e.g. a model that assumes a linear relationship between the input variables (x) and the single output variable (y). More specifically, that y can be calculated from a linear combination of the input variables (x).\r\n",
        "\r\n",
        "When there is a single input variable (x), the method is referred to as simple linear regression. When there are multiple input variables, literature from statistics often refers to the method as multiple linear regression.\r\n",
        "\r\n",
        "Different techniques can be used to prepare or train the linear regression equation from data, the most common of which is called Ordinary Least Squares. It is common to therefore refer to a model prepared this way as Ordinary Least Squares Linear Regression or just Least Squares Regression.\r\n",
        "\r\n",
        "**RESOURCES:**\r\n",
        "1. [Documentation](https://scikit-learn.org/stable/modules/generated/sklearn.linear_model.LinearRegression.html)\r\n",
        "2. [Linear Regression for Machine Learning](https://machinelearningmastery.com/linear-regression-for-machine-learning/#:~:text=Linear%20regression%20is%20a%20linear,the%20input%20variables%20(x).)\r\n",
        "3. [Linear Regression](http://www.stat.yale.edu/Courses/1997-98/101/linreg.htm)\r\n",
        "4. [Linear Regression Detailed View](https://towardsdatascience.com/linear-regression-detailed-view-ea73175f6e86)\r\n",
        "5. [Linear Regression Analysis using SPPS Statistics](https://statistics.laerd.com/spss-tutorials/linear-regression-using-spss-statistics.php)\r\n",
        "6. [What is Linear Regression](https://www.statisticssolutions.com/what-is-linear-regression/?__cf_chl_jschl_tk__=3dc2b2683edb0777a0554f2afb84752a9d9e2ba2-1615132368-0-ASd1CvX_kwIZyocziRkwCHi7dmsfVurLvcRPIWFS5iKOECprgS1IJUetJqnAgimS2yijxcLIY7vRWIBshkoGno20f6Acx5Na3C_pkR0nP9WBd95Ma7v_arU9Owlh-LPuL5SofBxaHvN10g3d4xwKnMRtyNpaWGMOaQcCaZhPcls6UZhoI1gA0EXZoAe0yp5e2ULs0MirLFu_ezt07RgEAzTg1Od5LhTa585tKdIR0Y2ajxYfzpr9u35pdH26h05c8QS_e_3cEQh_iGPk1f8bmK3NHHYSUyvEv1wy1J8uLnB5XY3sHuMG2rCRuf-jBUQ7PDCPyLXlmi4by7bgw3n2UzaTY1u9sca3wI3uKlpb-8Tc)\r\n",
        "7. [Introduction to Linear Regression Analysis](http://people.duke.edu/~rnau/regintro.htm)"
      ]
    },
    {
      "cell_type": "code",
      "metadata": {
        "colab": {
          "base_uri": "https://localhost:8080/"
        },
        "id": "_HegucZtrQHm",
        "outputId": "9da85362-dbde-4cf1-fe5e-e3c9a20130d1"
      },
      "source": [
        "#Linear Regression\r\n",
        "model = LinearRegression()\r\n",
        "\r\n",
        "model.fit(X_train[features], y_train)\r\n",
        "\r\n",
        "predict(model, features)"
      ],
      "execution_count": 74,
      "outputs": [
        {
          "output_type": "stream",
          "text": [
            "Train RMSE = 0.5928992504796073\n",
            "Test RMSE = 0.6142380849281177\n"
          ],
          "name": "stdout"
        }
      ]
    },
    {
      "cell_type": "markdown",
      "metadata": {
        "id": "NY4Ncgds4xjK"
      },
      "source": [
        "### LGBMRegressor\r\n",
        "\r\n",
        "LightGBM short for Light Gradient Boosted Machine, is a library developed at Microsoft that provides an efficient implementation of the gradient boosting algorithm.\r\n",
        "\r\n",
        "The primary benefit of the LightGBM is the changes to the training algorithm that make the process dramatically faster, and in many cases, result in a more effective model.\r\n",
        "\r\n",
        "For more technical details on the LightGBM algorithm, see the paper:\r\n",
        "\r\n",
        "- [LightGBM: A Highly Efficient Gradient Boosting Decision Tree, 2017](https://papers.nips.cc/paper/6907-lightgbm-a-highly-efficient-gradient-boosting-decision-tree).\r\n",
        "\r\n",
        "**RESOURCES:**\r\n",
        "1. [Documentation](https://lightgbm.readthedocs.io/en/latest/pythonapi/lightgbm.LGBMRegressor.html)\r\n",
        "2. [How to use LightGBM](https://www.dezyre.com/recipes/use-lightgbm-classifier-and-regressor-in-python)\r\n",
        "3. [What is LightGBM, How to implement it? How to fine tune the parameters?](https://medium.com/@pushkarmandot/https-medium-com-pushkarmandot-what-is-lightgbm-how-to-implement-it-how-to-fine-tune-the-parameters-60347819b7fc)\r\n",
        "4. [Python Examples of LightGBM](https://www.programcreek.com/python/example/88794/lightgbm.LGBMRegressor)\r\n",
        "5. [Understanding LightGBM Parameters](https://neptune.ai/blog/lightgbm-parameters-guide)\r\n",
        "6. [Gradient Boosting with Scikit-Learn, XGBoost, LightGBM, and CatBoost](https://machinelearningmastery.com/gradient-boosting-with-scikit-learn-xgboost-lightgbm-and-catboost/)"
      ]
    },
    {
      "cell_type": "code",
      "metadata": {
        "colab": {
          "base_uri": "https://localhost:8080/",
          "height": 1000
        },
        "id": "raEIa10-4zVe",
        "outputId": "41893dd7-5e5a-41e1-b3fa-e2cf64150654"
      },
      "source": [
        "model = LGBMRegressor(n_estimators = 5000,\r\n",
        "                        learning_rate = 0.01,\r\n",
        "                        colsample_bytree = 0.76,\r\n",
        "                        metric = 'None',\r\n",
        "                        )\r\n",
        "fit_params = {'verbose': 300, 'early_stopping_rounds': 200, 'eval_metric': 'rmse'}\r\n",
        "\r\n",
        "lgb_oofs, lgb_preds, fi = run_gradient_boosting(clf = model, fit_params = fit_params, train = train, test = test, features = features)"
      ],
      "execution_count": 75,
      "outputs": [
        {
          "output_type": "stream",
          "text": [
            "\n",
            "------------- Fold 1 -------------\n",
            "Training until validation scores don't improve for 200 rounds.\n",
            "Early stopping, best iteration is:\n",
            "[54]\tvalid_0's rmse: 0.523947\n",
            "\n",
            "RMSE score for validation set is 0.5239471286267389\n",
            "\n",
            "------------- Fold 2 -------------\n",
            "Training until validation scores don't improve for 200 rounds.\n",
            "[300]\tvalid_0's rmse: 0.527951\n",
            "Early stopping, best iteration is:\n",
            "[198]\tvalid_0's rmse: 0.506952\n",
            "\n",
            "RMSE score for validation set is 0.5069516550458518\n",
            "\n",
            "------------- Fold 3 -------------\n",
            "Training until validation scores don't improve for 200 rounds.\n",
            "[300]\tvalid_0's rmse: 0.444474\n",
            "Early stopping, best iteration is:\n",
            "[242]\tvalid_0's rmse: 0.434738\n",
            "\n",
            "RMSE score for validation set is 0.4347375096137859\n",
            "\n",
            "------------- Fold 4 -------------\n",
            "Training until validation scores don't improve for 200 rounds.\n",
            "[300]\tvalid_0's rmse: 0.438418\n",
            "Early stopping, best iteration is:\n",
            "[357]\tvalid_0's rmse: 0.437303\n",
            "\n",
            "RMSE score for validation set is 0.43730257584962584\n",
            "\n",
            "------------- Fold 5 -------------\n",
            "Training until validation scores don't improve for 200 rounds.\n",
            "[300]\tvalid_0's rmse: 0.399861\n",
            "Early stopping, best iteration is:\n",
            "[382]\tvalid_0's rmse: 0.398527\n",
            "\n",
            "RMSE score for validation set is 0.3985265617776335\n",
            "\n",
            "\n",
            "RMSE for oofs is 0.46273291630183855\n"
          ],
          "name": "stdout"
        },
        {
          "output_type": "display_data",
          "data": {
            "image/png": "[encoded data removed]",
            "text/plain": [
              "<Figure size 864x432 with 1 Axes>"
            ]
          },
          "metadata": {
            "tags": []
          }
        }
      ]
    },
    {
      "cell_type": "markdown",
      "metadata": {
        "id": "Hhc0yPelPfcr"
      },
      "source": [
        "## Time Series Forecasting using ARIMA and SARIMAX\r\n",
        "\r\n",
        "ARIMA, short for ‘Auto Regressive Integrated Moving Average’ is actually a class of models that ‘explains’ a given time series based on its own past values, that is, its own lags and the lagged forecast errors, so that equation can be used to forecast future values.\r\n",
        "\r\n",
        "Any ‘non-seasonal’ time series that exhibits patterns and is not a random white noise can be modeled with ARIMA models.\r\n",
        "\r\n",
        "An ARIMA model is characterized by 3 terms: p, d, q\r\n",
        "\r\n",
        "where,\r\n",
        "\r\n",
        "p is the order of the AR term\r\n",
        "\r\n",
        "q is the order of the MA term\r\n",
        "\r\n",
        "d is the number of differencing required to make the time series stationary\r\n",
        "\r\n",
        "If a time series, has seasonal patterns, then you need to add seasonal terms and it becomes SARIMA, short for ‘Seasonal ARIMA’.\r\n",
        "\r\n",
        "**RESOURCES:**\r\n",
        "\r\n",
        "1. [Documentation](https://www.statsmodels.org/devel/generated/statsmodels.tsa.arima_model.ARIMA.html)\r\n",
        "2. [Forecasting Future Sales using ARIMA and SARIMAX](https://www.youtube.com/watch?v=2XGSIlgUBDI)\r\n",
        "3. [ARIMA for Time Series Forecasting in Python](https://machinelearningmastery.com/arima-for-time-series-forecasting-with-python/#:~:text=ARIMA%20is%20an%20acronym%20that,structures%20in%20time%20series%20data.) \r\n",
        "4. [Autoregressive Integrated Moving Average](https://en.wikipedia.org/wiki/Autoregressive_integrated_moving_average)\r\n",
        "5. [ARIMA Model – Complete Guide to Time Series Forecasting in Python](https://www.machinelearningplus.com/time-series/arima-model-time-series-forecasting-python/)\r\n",
        "6. [Introduction to ARIMA](https://people.duke.edu/~rnau/411arim.htm)\r\n",
        "7. [Autoregressive Integrated Moving Average (ARIMA)](https://www.investopedia.com/terms/a/autoregressive-integrated-moving-average-arima.asp)\r\n",
        "8. [Time Series Forecasting - ARIMA Models](https://towardsdatascience.com/time-series-forecasting-arima-models-7f221e9eee06)\r\n",
        "9. [Understanding ARIMA Time Series Modelling](https://towardsdatascience.com/understanding-arima-time-series-modeling-d99cd11be3f8)\r\n",
        "10. [How to Create an ARIMA Model for Time Series Forecasting in Python](https://www.analyticsvidhya.com/blog/2020/10/how-to-create-an-arima-model-for-time-series-forecasting-in-python/)\r\n",
        "11. [Time Series ARIMA Models](https://sites.google.com/site/econometricsacademy/econometrics-models/time-series-arima-models)\r\n"
      ]
    },
    {
      "cell_type": "markdown",
      "metadata": {
        "id": "Q4uEIrTNOQ0x"
      },
      "source": [
        "**Autoregressive Integrated Moving Averages**  \r\n",
        "\r\n",
        "The general process is as follows:  \r\n",
        "- Visualize the time series data\r\n",
        "- Make the time series data stationary\r\n",
        "- Plot the Correlation and Autocorrelation charts\r\n",
        "- Use the model to make predictions"
      ]
    },
    {
      "cell_type": "markdown",
      "metadata": {
        "id": "vmRgkeWFQytk"
      },
      "source": [
        "### Preprocess Data"
      ]
    },
    {
      "cell_type": "code",
      "metadata": {
        "id": "rxjSpTw7P61t"
      },
      "source": [
        "#Load Data\r\n",
        "train, test, submission = load_data()"
      ],
      "execution_count": 77,
      "outputs": []
    },
    {
      "cell_type": "code",
      "metadata": {
        "id": "O27KzvCjPjT3"
      },
      "source": [
        "#Convert `date` column to datetime\r\n",
        "train.date = pd.to_datetime(train.date)"
      ],
      "execution_count": 78,
      "outputs": []
    },
    {
      "cell_type": "code",
      "metadata": {
        "id": "b_ZbI8jrO7GZ"
      },
      "source": [
        "#Set `date` as index\r\n",
        "train.set_index('date', inplace = True)"
      ],
      "execution_count": 79,
      "outputs": []
    },
    {
      "cell_type": "code",
      "metadata": {
        "colab": {
          "base_uri": "https://localhost:8080/",
          "height": 220
        },
        "id": "JRMPmH-JP-5y",
        "outputId": "9a2d793d-e6e7-4a93-df45-be2c092521a9"
      },
      "source": [
        "train.head()"
      ],
      "execution_count": 80,
      "outputs": [
        {
          "output_type": "execute_result",
          "data": {
            "text/html": [
              "<div>\n",
              "<style scoped>\n",
              "    .dataframe tbody tr th:only-of-type {\n",
              "        vertical-align: middle;\n",
              "    }\n",
              "\n",
              "    .dataframe tbody tr th {\n",
              "        vertical-align: top;\n",
              "    }\n",
              "\n",
              "    .dataframe thead th {\n",
              "        text-align: right;\n",
              "    }\n",
              "</style>\n",
              "<table border=\"1\" class=\"dataframe\">\n",
              "  <thead>\n",
              "    <tr style=\"text-align: right;\">\n",
              "      <th></th>\n",
              "      <th>temp</th>\n",
              "    </tr>\n",
              "    <tr>\n",
              "      <th>date</th>\n",
              "      <th></th>\n",
              "    </tr>\n",
              "  </thead>\n",
              "  <tbody>\n",
              "    <tr>\n",
              "      <th>1980-01-01</th>\n",
              "      <td>4.16</td>\n",
              "    </tr>\n",
              "    <tr>\n",
              "      <th>1980-02-01</th>\n",
              "      <td>4.06</td>\n",
              "    </tr>\n",
              "    <tr>\n",
              "      <th>1980-03-01</th>\n",
              "      <td>7.12</td>\n",
              "    </tr>\n",
              "    <tr>\n",
              "      <th>1980-04-01</th>\n",
              "      <td>9.23</td>\n",
              "    </tr>\n",
              "    <tr>\n",
              "      <th>1980-05-01</th>\n",
              "      <td>3.20</td>\n",
              "    </tr>\n",
              "  </tbody>\n",
              "</table>\n",
              "</div>"
            ],
            "text/plain": [
              "            temp\n",
              "date            \n",
              "1980-01-01  4.16\n",
              "1980-02-01  4.06\n",
              "1980-03-01  7.12\n",
              "1980-04-01  9.23\n",
              "1980-05-01  3.20"
            ]
          },
          "metadata": {
            "tags": []
          },
          "execution_count": 80
        }
      ]
    },
    {
      "cell_type": "code",
      "metadata": {
        "colab": {
          "base_uri": "https://localhost:8080/",
          "height": 277
        },
        "id": "Sd7O_ASgQJVU",
        "outputId": "b7973d5c-53be-48ae-ed01-9c0d77209949"
      },
      "source": [
        "train.describe()"
      ],
      "execution_count": 81,
      "outputs": [
        {
          "output_type": "execute_result",
          "data": {
            "text/html": [
              "<div>\n",
              "<style scoped>\n",
              "    .dataframe tbody tr th:only-of-type {\n",
              "        vertical-align: middle;\n",
              "    }\n",
              "\n",
              "    .dataframe tbody tr th {\n",
              "        vertical-align: top;\n",
              "    }\n",
              "\n",
              "    .dataframe thead th {\n",
              "        text-align: right;\n",
              "    }\n",
              "</style>\n",
              "<table border=\"1\" class=\"dataframe\">\n",
              "  <thead>\n",
              "    <tr style=\"text-align: right;\">\n",
              "      <th></th>\n",
              "      <th>temp</th>\n",
              "    </tr>\n",
              "  </thead>\n",
              "  <tbody>\n",
              "    <tr>\n",
              "      <th>count</th>\n",
              "      <td>11323.000000</td>\n",
              "    </tr>\n",
              "    <tr>\n",
              "      <th>mean</th>\n",
              "      <td>15.573259</td>\n",
              "    </tr>\n",
              "    <tr>\n",
              "      <th>std</th>\n",
              "      <td>7.877191</td>\n",
              "    </tr>\n",
              "    <tr>\n",
              "      <th>min</th>\n",
              "      <td>-5.110000</td>\n",
              "    </tr>\n",
              "    <tr>\n",
              "      <th>25%</th>\n",
              "      <td>8.390000</td>\n",
              "    </tr>\n",
              "    <tr>\n",
              "      <th>50%</th>\n",
              "      <td>15.990000</td>\n",
              "    </tr>\n",
              "    <tr>\n",
              "      <th>75%</th>\n",
              "      <td>22.055000</td>\n",
              "    </tr>\n",
              "    <tr>\n",
              "      <th>max</th>\n",
              "      <td>32.390000</td>\n",
              "    </tr>\n",
              "  </tbody>\n",
              "</table>\n",
              "</div>"
            ],
            "text/plain": [
              "               temp\n",
              "count  11323.000000\n",
              "mean      15.573259\n",
              "std        7.877191\n",
              "min       -5.110000\n",
              "25%        8.390000\n",
              "50%       15.990000\n",
              "75%       22.055000\n",
              "max       32.390000"
            ]
          },
          "metadata": {
            "tags": []
          },
          "execution_count": 81
        }
      ]
    },
    {
      "cell_type": "markdown",
      "metadata": {
        "id": "z3c9iz3MQ1SD"
      },
      "source": [
        "### Visualize Data"
      ]
    },
    {
      "cell_type": "code",
      "metadata": {
        "colab": {
          "base_uri": "https://localhost:8080/",
          "height": 573
        },
        "id": "B6YBv6dwQUFv",
        "outputId": "b816f427-e4de-45ee-9c6f-075012c1f343"
      },
      "source": [
        "train.plot(figsize = (20, 10))"
      ],
      "execution_count": 82,
      "outputs": [
        {
          "output_type": "execute_result",
          "data": {
            "text/plain": [
              "<matplotlib.axes._subplots.AxesSubplot at 0x7f39b86399d0>"
            ]
          },
          "metadata": {
            "tags": []
          },
          "execution_count": 82
        },
        {
          "output_type": "display_data",
          "data": {
            "image/png": "[encoded data removed]",
            "text/plain": [
              "<Figure size 1440x720 with 1 Axes>"
            ]
          },
          "metadata": {
            "tags": []
          }
        }
      ]
    },
    {
      "cell_type": "markdown",
      "metadata": {
        "id": "qwAVMKvDQnSn"
      },
      "source": [
        "From the plot we observe that the data is seasonal."
      ]
    },
    {
      "cell_type": "markdown",
      "metadata": {
        "id": "ni-vvQIdQs0b"
      },
      "source": [
        "### Make Data Stationary"
      ]
    },
    {
      "cell_type": "markdown",
      "metadata": {
        "id": "PNQxbClYUm6e"
      },
      "source": [
        "To check if the data is stationary, we perform the `adfuller` test."
      ]
    },
    {
      "cell_type": "code",
      "metadata": {
        "id": "peYbq3DdQZzo"
      },
      "source": [
        "#Import adfuller test\r\n",
        "from statsmodels.tsa.stattools import adfuller"
      ],
      "execution_count": 85,
      "outputs": []
    },
    {
      "cell_type": "code",
      "metadata": {
        "id": "DnvHOYlVRG6W"
      },
      "source": [
        "# test_result = adfuller(train.temp)"
      ],
      "execution_count": 84,
      "outputs": []
    },
    {
      "cell_type": "code",
      "metadata": {
        "id": "PTLoUeiWRQzb"
      },
      "source": [
        "#H0: It is not stationary\r\n",
        "#H1: It is stationary\r\n",
        "\r\n",
        "def adfuller_test(temp):\r\n",
        "    result=adfuller(temp)\r\n",
        "    labels = ['ADF Test Statistic','p-value','#Lags Used','Number of Observations Used']\r\n",
        "    for value,label in zip(result,labels):\r\n",
        "        print(label+' : '+str(value) )\r\n",
        "    if result[1] <= 0.05:\r\n",
        "        print(\"strong evidence against the null hypothesis(Ho), reject the null hypothesis. Data has no unit root and is stationary\")\r\n",
        "    else:\r\n",
        "        print(\"weak evidence against null hypothesis, time series has a unit root, indicating it is non-stationary \")"
      ],
      "execution_count": 86,
      "outputs": []
    },
    {
      "cell_type": "code",
      "metadata": {
        "colab": {
          "base_uri": "https://localhost:8080/"
        },
        "id": "bJeK2fz6UzqX",
        "outputId": "f784832c-e2c0-486d-9983-2410d519fae3"
      },
      "source": [
        "adfuller_test(train.temp)"
      ],
      "execution_count": 88,
      "outputs": [
        {
          "output_type": "stream",
          "text": [
            "ADF Test Statistic : -10.245075802603546\n",
            "p-value : 4.64050192615655e-18\n",
            "#Lags Used : 40\n",
            "Number of Observations Used : 11282\n",
            "strong evidence against the null hypothesis(Ho), reject the null hypothesis. Data has no unit root and is stationary\n"
          ],
          "name": "stdout"
        }
      ]
    },
    {
      "cell_type": "markdown",
      "metadata": {
        "id": "uRRIs6giU-zs"
      },
      "source": [
        "Since data is already stationary, we do not need to perform differencing and can set `d=0` directly."
      ]
    },
    {
      "cell_type": "code",
      "metadata": {
        "colab": {
          "base_uri": "https://localhost:8080/",
          "height": 361
        },
        "id": "l4Agt6paU28F",
        "outputId": "9568dd58-20a3-4e79-8763-986523658573"
      },
      "source": [
        "train['Seasonal First Difference']=train['temp']-train['temp'].shift(12) #Because 1 year has 12 months\r\n",
        "\r\n",
        "## Again test dickey fuller test\r\n",
        "adfuller_test(train['Seasonal First Difference'].dropna())\r\n",
        "\r\n",
        "train['Seasonal First Difference'].plot()"
      ],
      "execution_count": 89,
      "outputs": [
        {
          "output_type": "stream",
          "text": [
            "ADF Test Statistic : -8.151279157068213\n",
            "p-value : 9.681017925784175e-13\n",
            "#Lags Used : 40\n",
            "Number of Observations Used : 11270\n",
            "strong evidence against the null hypothesis(Ho), reject the null hypothesis. Data has no unit root and is stationary\n"
          ],
          "name": "stdout"
        },
        {
          "output_type": "execute_result",
          "data": {
            "text/plain": [
              "<matplotlib.axes._subplots.AxesSubplot at 0x7f39b59a5850>"
            ]
          },
          "metadata": {
            "tags": []
          },
          "execution_count": 89
        },
        {
          "output_type": "display_data",
          "data": {
            "image/png": "[encoded data removed]",
            "text/plain": [
              "<Figure size 432x288 with 1 Axes>"
            ]
          },
          "metadata": {
            "tags": []
          }
        }
      ]
    },
    {
      "cell_type": "markdown",
      "metadata": {
        "id": "GBWPvrjlWK1R"
      },
      "source": [
        "## Auto Regressive Model\r\n",
        "\r\n",
        "**Autocorrelation and Partial Autocorrelation**  \r\n",
        "\r\n",
        "- Identification of an AR model is often best done with the PACF.\r\n",
        " - For an AR model, the theoretical PACF “shuts off” past the order of the model. The phrase “shuts off” means that in theory the partial autocorrelations are equal to 0 beyond that point. Put another way, the number of non-zero partial autocorrelations gives the order of the AR model. By the “order of the model” we mean the most extreme lag of x that is used as a predictor.\r\n",
        " - Look for sudden drop\r\n",
        "\r\n",
        "- Identification of an MA model is often best done with the ACF rather than the PACF.\r\n",
        " - For an MA model, the theoretical PACF does not shut off, but instead tapers toward 0 in some manner. A clearer pattern for an MA model is in the ACF. The ACF will have non-zero autocorrelations only at lags involved in the model.\r\n",
        " - Look for exponential drop"
      ]
    },
    {
      "cell_type": "markdown",
      "metadata": {
        "id": "wW0BBG7fXr36"
      },
      "source": [
        "**Parameters for ARIMA**\r\n",
        "1. p - Autoregressive (AR) Model Lags - Use PACF\r\n",
        "2. d - No. of times differencing performed\r\n",
        "3. q - Moving Average (MA) Lags - Use ACF"
      ]
    },
    {
      "cell_type": "code",
      "metadata": {
        "id": "B0qqc4kNWe7n"
      },
      "source": [
        "from statsmodels.graphics.tsaplots import plot_pacf ,plot_acf"
      ],
      "execution_count": 90,
      "outputs": []
    },
    {
      "cell_type": "code",
      "metadata": {
        "colab": {
          "base_uri": "https://localhost:8080/",
          "height": 493
        },
        "id": "yjP_gx7KYPeU",
        "outputId": "5bfd0e23-b52b-43ec-dee3-1810d4aae3d9"
      },
      "source": [
        "fig = plt.figure(figsize = (12, 8))\r\n",
        "ax1 = fig.add_subplot(211)\r\n",
        "fig = plot_pacf(train['Seasonal First Difference'].iloc[13:],lags=40,ax=ax1)\r\n",
        "ax2 = fig.add_subplot(212)\r\n",
        "fig = plot_acf(train['Seasonal First Difference'].iloc[13:],lags=40,ax=ax2)"
      ],
      "execution_count": 91,
      "outputs": [
        {
          "output_type": "display_data",
          "data": {
            "image/png": "[encoded data removed]",
            "text/plain": [
              "<Figure size 864x576 with 2 Axes>"
            ]
          },
          "metadata": {
            "tags": []
          }
        }
      ]
    },
    {
      "cell_type": "markdown",
      "metadata": {
        "id": "9UOeFQYicuiZ"
      },
      "source": [
        "- From PACF sudden drop is observed at 2 so `p=2`.\r\n",
        "\r\n",
        "- From ACF exponential drop is till 10 so `q=10`"
      ]
    },
    {
      "cell_type": "code",
      "metadata": {
        "id": "I3yxfw6OcHfh",
        "colab": {
          "base_uri": "https://localhost:8080/",
          "height": 528
        },
        "outputId": "bf61b884-3922-4921-b413-0975d7ad4032"
      },
      "source": [
        "from statsmodels.tsa.arima_model import ARIMA\r\n",
        "\r\n",
        "model=ARIMA(train['temp'],order=(2,0,2))\r\n",
        "model_fit=model.fit()\r\n",
        "\r\n",
        "model_fit.summary()\r\n",
        "\r\n",
        "train['forecast']=model_fit.predict(start=10000,end=11321,dynamic=True)\r\n",
        "train[['temp','forecast']].plot(figsize=(12,8))"
      ],
      "execution_count": 93,
      "outputs": [
        {
          "output_type": "stream",
          "text": [
            "/usr/local/lib/python3.7/dist-packages/statsmodels/tsa/base/tsa_model.py:219: ValueWarning: A date index has been provided, but it has no associated frequency information and so will be ignored when e.g. forecasting.\n",
            "  ' ignored when e.g. forecasting.', ValueWarning)\n"
          ],
          "name": "stderr"
        },
        {
          "output_type": "execute_result",
          "data": {
            "text/plain": [
              "<matplotlib.axes._subplots.AxesSubplot at 0x7f39bb7db090>"
            ]
          },
          "metadata": {
            "tags": []
          },
          "execution_count": 93
        },
        {
          "output_type": "display_data",
          "data": {
            "image/png": "[encoded data removed]",
            "text/plain": [
              "<Figure size 864x576 with 1 Axes>"
            ]
          },
          "metadata": {
            "tags": []
          }
        }
      ]
    },
    {
      "cell_type": "markdown",
      "metadata": {
        "id": "EuCPCYvLeggI"
      },
      "source": [
        "The forecast is poor because data is seasonal, so we need to use `SARIMAX`"
      ]
    },
    {
      "cell_type": "code",
      "metadata": {
        "id": "PmPrwWDaecNe"
      },
      "source": [
        "import statsmodels.api as sm"
      ],
      "execution_count": 94,
      "outputs": []
    },
    {
      "cell_type": "code",
      "metadata": {
        "id": "dWLIWyiJepaP"
      },
      "source": [
        "#Start time \r\n",
        "begin = time.time() \r\n",
        "\r\n",
        "model=sm.tsa.statespace.SARIMAX(train['temp'],order=(2, 1, 2),seasonal_order=(2, 1, 2, 12))\r\n",
        "results=model.fit()\r\n",
        "\r\n",
        "#End TIme\r\n",
        "end = time.time()\r\n",
        "print(f\"\\n\\nTime of execution = {end - begin}\")\r\n",
        "\r\n",
        "#Forecast\r\n",
        "train['forecast']=results.predict(start=10000,end=11321,dynamic=True)\r\n",
        "train[['temp','forecast']].plot(figsize=(12,8))\r\n",
        "\r\n",
        "rmse()"
      ],
      "execution_count": null,
      "outputs": []
    },
    {
      "cell_type": "code",
      "metadata": {
        "id": "CVikEEmLfZUA"
      },
      "source": [
        "df = pd.concat([train, test])\r\n",
        "df['forecast'] = results.predict(start = 11322, end = 14883, dynamic= True)  \r\n",
        "df[['temp', 'forecast']].plot(figsize=(12, 8))"
      ],
      "execution_count": null,
      "outputs": []
    },
    {
      "cell_type": "code",
      "metadata": {
        "id": "a1R8naA1dmjG"
      },
      "source": [
        "rmse()"
      ],
      "execution_count": null,
      "outputs": []
    },
    {
      "cell_type": "markdown",
      "metadata": {
        "id": "0ZhiS7jNFJPY"
      },
      "source": [
        "## FBProphet"
      ]
    },
    {
      "cell_type": "markdown",
      "metadata": {
        "id": "WnGQOeoveAaz"
      },
      "source": [
        "Prophet is a procedure for forecasting time series data based on an additive model where non-linear trends are fit with yearly, weekly, and daily seasonality, plus holiday effects. It works best with time series that have strong seasonal effects and several seasons of historical data. Prophet is robust to missing data and shifts in the trend, and typically handles outliers well.\r\n",
        "\r\n",
        "Prophet is open source software released by Facebook's Core Data Science team .\r\n",
        "\r\n",
        "**RESOURCES:**\r\n",
        "1. [Documentation](https://pypi.org/project/fbprophet/)\r\n",
        "2. [Quick Start](https://facebook.github.io/prophet/docs/quick_start.html)\r\n",
        "3. [Hacking Time-Series Forecasting Like a Pro with FBProphet](https://medium.com/tokopedia-data/hacking-time-series-forecasting-like-a-pro-with-fbprophet-76f276f0a058)\r\n",
        "4. [Time Series Forecasting With Prophet in Python](https://machinelearningmastery.com/time-series-forecasting-with-prophet-in-python/)\r\n",
        "5. [A Quick Start of Time Series Forecasting with a Practical Example using FB Prophet](https://towardsdatascience.com/a-quick-start-of-time-series-forecasting-with-a-practical-example-using-fb-prophet-31c4447a2274)\r\n",
        "6. [FBProphet TowardsDataScience](https://towardsdatascience.com/a-quick-start-of-time-series-forecasting-with-a-practical-example-using-fb-prophet-31c4447a2274)\r\n",
        "7. [Generate Quick and Accurate Time Series Forecasts using Facebook’s Prophet (with Python & R codes)](https://www.analyticsvidhya.com/blog/2018/05/generate-accurate-forecasts-facebook-prophet-python-r/)"
      ]
    },
    {
      "cell_type": "code",
      "metadata": {
        "id": "Slr5uB9IYbHd"
      },
      "source": [
        "def prophet_rmse(y_true, y_pred):\r\n",
        "\r\n",
        "  y_true, y_pred = np.array(y_true), np.array(y_pred)\r\n",
        "  return np.sqrt(mean_squared_error(y_true, y_pred))"
      ],
      "execution_count": 96,
      "outputs": []
    },
    {
      "cell_type": "code",
      "metadata": {
        "id": "vX-jLphPdnwR"
      },
      "source": [
        "import fbprophet\r\n",
        "from fbprophet import Prophet"
      ],
      "execution_count": 97,
      "outputs": []
    },
    {
      "cell_type": "code",
      "metadata": {
        "id": "hIjkSq8vFTqE"
      },
      "source": [
        "#Load Data\r\n",
        "train, test, submission = load_data()\r\n",
        "train['date'] = pd.to_datetime(train['date'])\r\n",
        "\r\n",
        "#Update column names\r\n",
        "train.columns = ['ds', 'y']"
      ],
      "execution_count": 98,
      "outputs": []
    },
    {
      "cell_type": "code",
      "metadata": {
        "id": "DbfGwxKfm9te"
      },
      "source": [
        "END_DATE = '2009'\r\n",
        "X_train = train[train['ds'] <= END_DATE]\r\n",
        "X_test = train[train['ds'] >= END_DATE]"
      ],
      "execution_count": 99,
      "outputs": []
    },
    {
      "cell_type": "code",
      "metadata": {
        "colab": {
          "base_uri": "https://localhost:8080/"
        },
        "id": "WBa_yvrKm18R",
        "outputId": "fe231ee6-33fc-4242-c1d6-99be13bf84b9"
      },
      "source": [
        "X_train.shape, X_test.shape"
      ],
      "execution_count": 100,
      "outputs": [
        {
          "output_type": "execute_result",
          "data": {
            "text/plain": [
              "((10594, 2), (730, 2))"
            ]
          },
          "metadata": {
            "tags": []
          },
          "execution_count": 100
        }
      ]
    },
    {
      "cell_type": "code",
      "metadata": {
        "id": "xr0sj0sRpMvt"
      },
      "source": [
        "#Add holidays to model\r\n",
        "\r\n",
        "import holidays\r\n",
        "\r\n",
        "\r\n",
        "holiday = pd.DataFrame([])\r\n",
        "for date, name in sorted(holidays.UnitedStates(years=[2018,2019,2020]).items()):\r\n",
        "    holiday = holiday.append(pd.DataFrame({'ds': date, 'holiday': \"US-Holidays\"}, index=[0]), ignore_index=True)\r\n",
        "holiday['ds'] = pd.to_datetime(holiday['ds'], format='%Y-%m-%d', errors='ignore')"
      ],
      "execution_count": 101,
      "outputs": []
    },
    {
      "cell_type": "code",
      "metadata": {
        "id": "sq2bJaLE0n6s"
      },
      "source": [
        "# #Box Cox Transformation\r\n",
        "# from scipy.stats import boxcox\r\n",
        "\r\n",
        "# # Apply Box-Cox Transform to value column and assign to new column y\r\n",
        "# train['y'] = train['y'] + 5.12 #Make Data Positive\r\n",
        "# train['y'], lam = boxcox(train['y'])"
      ],
      "execution_count": null,
      "outputs": []
    },
    {
      "cell_type": "code",
      "metadata": {
        "colab": {
          "base_uri": "https://localhost:8080/"
        },
        "id": "1ZnmX0tZ1Jwe",
        "outputId": "6163680d-0167-4359-a448-ec749646fe8a"
      },
      "source": [
        "# train['y'].min()"
      ],
      "execution_count": null,
      "outputs": [
        {
          "output_type": "execute_result",
          "data": {
            "text/plain": [
              "-5.11"
            ]
          },
          "metadata": {
            "tags": []
          },
          "execution_count": 226
        }
      ]
    },
    {
      "cell_type": "code",
      "metadata": {
        "colab": {
          "base_uri": "https://localhost:8080/"
        },
        "id": "3u_d-MCOFhmJ",
        "outputId": "4ef10a5b-fd12-45b2-8fc0-2947e51fe013"
      },
      "source": [
        "#Initialize model\r\n",
        "model = Prophet(growth = 'linear', \r\n",
        "                  seasonality_mode = 'multiplicative',  \r\n",
        "                  changepoint_prior_scale = 30,\r\n",
        "                  seasonality_prior_scale = 15,\r\n",
        "                  )\r\n",
        "\r\n",
        "#Fit Model\r\n",
        "model.fit(X_train)\r\n",
        "\r\n",
        "prediction = model.predict(X_test[['ds']])\r\n",
        "rmse = np.sqrt(mean_squared_error(X_test['y'], prediction['yhat']))\r\n",
        "rmse"
      ],
      "execution_count": 102,
      "outputs": [
        {
          "output_type": "stream",
          "text": [
            "INFO:fbprophet:Disabling daily seasonality. Run prophet with daily_seasonality=True to override this.\n"
          ],
          "name": "stderr"
        },
        {
          "output_type": "execute_result",
          "data": {
            "text/plain": [
              "3.65931922523146"
            ]
          },
          "metadata": {
            "tags": []
          },
          "execution_count": 102
        }
      ]
    },
    {
      "cell_type": "code",
      "metadata": {
        "id": "9Z1GplZ7Zff6"
      },
      "source": [
        "# from fbprophet.diagnostics import cross_validation\r\n",
        "# cv_results = cross_validation(model, initial='730 days', period='180 days', horizon = '365 days')\r\n",
        "# cv_results.head()\r\n",
        "\r\n",
        "#Calculate RMSE\r\n",
        "# prophet_rmse(cv_results.y, cv_results.yhat)"
      ],
      "execution_count": null,
      "outputs": []
    },
    {
      "cell_type": "code",
      "metadata": {
        "colab": {
          "base_uri": "https://localhost:8080/"
        },
        "id": "UAaQSs_xJ9xJ",
        "outputId": "c69fa5e8-461a-42d2-ce33-f0c25bee0b48"
      },
      "source": [
        "#Alternate way to calculate rmse (without using cv)\r\n",
        "prediction = model.predict(train[['ds']])\r\n",
        "# model.plot(prediction);\r\n",
        "# model.plot_components(prediction);\r\n",
        "\r\n",
        "rmse = np.sqrt(mean_squared_error(train['y'], prediction['yhat']))\r\n",
        "rmse"
      ],
      "execution_count": 103,
      "outputs": [
        {
          "output_type": "execute_result",
          "data": {
            "text/plain": [
              "3.759241306761667"
            ]
          },
          "metadata": {
            "tags": []
          },
          "execution_count": 103
        }
      ]
    },
    {
      "cell_type": "markdown",
      "metadata": {
        "id": "zE2bAKmEK16e"
      },
      "source": [
        "### Inference"
      ]
    },
    {
      "cell_type": "code",
      "metadata": {
        "id": "ur1cHy77GwfG"
      },
      "source": [
        "def submit(model, file_name = 'prophet.csv'):\r\n",
        "\r\n",
        "  #Load Test Data\r\n",
        "  test = pd.read_csv('/content/drive/MyDrive/Data Science/dare2compete/DTU RoundHacks Data Science Hackathon/new_test.csv')\r\n",
        "\r\n",
        "  #Convert `date` to datetime\r\n",
        "  test['date'] = pd.to_datetime(test['date'])\r\n",
        "\r\n",
        "  #Update column names\r\n",
        "  test.columns = ['ds']\r\n",
        "\r\n",
        "  #Make Predictions\r\n",
        "  test_preds = model.predict(test)\r\n",
        "\r\n",
        "  #Inverse Box Transform\r\n",
        "  # from scipy.special import inv_boxcox\r\n",
        "\r\n",
        "  #Apply inverse Box-Cox transform to specific forecast columns\r\n",
        "  # test_preds[['yhat','yhat_upper','yhat_lower']] = test_preds[['yhat','yhat_upper','yhat_lower']].apply(lambda x: inv_boxcox(x, lam))\r\n",
        "\r\n",
        "  #Inverse Data Addition\r\n",
        "  # test_preds['yhat'] = test_preds['yhat'] - 5.12\r\n",
        "\r\n",
        "  #Add prediction to submission file\r\n",
        "  submission['prediction'] = test_preds['yhat']\r\n",
        "\r\n",
        "  #Saving our predictions to a csv file\r\n",
        "  submission.to_csv(file_name, index = False)\r\n",
        "    \r\n",
        "  #Downloadingthe csv file\r\n",
        "  files.download(file_name)"
      ],
      "execution_count": null,
      "outputs": []
    },
    {
      "cell_type": "markdown",
      "metadata": {
        "id": "eY6CRw2ZqaHh"
      },
      "source": [
        "### Hyperparameter Tuning using Parameter Grid"
      ]
    },
    {
      "cell_type": "code",
      "metadata": {
        "colab": {
          "base_uri": "https://localhost:8080/"
        },
        "id": "aBcOAuFagVLo",
        "outputId": "d97ef783-5e1b-4878-befd-83f2088cde5d"
      },
      "source": [
        "from sklearn.model_selection import ParameterGrid\r\n",
        "params_grid = {'seasonality_mode':('multiplicative','additive'),\r\n",
        "               'changepoint_prior_scale':[0.1,0.2,0.3,0.4,0.5],\r\n",
        "              'holidays_prior_scale':[0.1,0.2,0.3,0.4,0.5],\r\n",
        "              'n_changepoints' : [100,150,200]}\r\n",
        "grid = ParameterGrid(params_grid)\r\n",
        "cnt = 0\r\n",
        "for p in grid:\r\n",
        "    cnt = cnt+1\r\n",
        "\r\n",
        "print('Total Possible Models',cnt)"
      ],
      "execution_count": null,
      "outputs": [
        {
          "output_type": "stream",
          "text": [
            "Total Possible Models 150\n"
          ],
          "name": "stdout"
        }
      ]
    },
    {
      "cell_type": "markdown",
      "metadata": {
        "id": "P_r0loBKqtJR"
      },
      "source": [
        "### Prophet Model Tuning"
      ]
    },
    {
      "cell_type": "code",
      "metadata": {
        "id": "iQ1Nd10Wr1cO"
      },
      "source": [
        "import random"
      ],
      "execution_count": null,
      "outputs": []
    },
    {
      "cell_type": "code",
      "metadata": {
        "colab": {
          "base_uri": "https://localhost:8080/"
        },
        "id": "jJbdmf_Aqiqr",
        "outputId": "7f2fbada-24dd-4bda-e7e5-3b2d40e29577"
      },
      "source": [
        "strt='1980-01-01'\r\n",
        "end='2009-01-01'\r\n",
        "\r\n",
        "model_parameters = pd.DataFrame(columns = ['RMSE','Parameters'])\r\n",
        "i = 0\r\n",
        "\r\n",
        "for p in grid:\r\n",
        "    test_tune = pd.DataFrame()\r\n",
        "    print(f\"Iteration: {i+1}/150\")\r\n",
        "    print(p)\r\n",
        "    random.seed(0)\r\n",
        "\r\n",
        "    train_model =Prophet(changepoint_prior_scale = p['changepoint_prior_scale'],\r\n",
        "                         holidays_prior_scale = p['holidays_prior_scale'],\r\n",
        "                         n_changepoints = p['n_changepoints'],\r\n",
        "                         seasonality_mode = p['seasonality_mode'],\r\n",
        "                         weekly_seasonality=True,\r\n",
        "                         daily_seasonality = True,\r\n",
        "                         yearly_seasonality = True,\r\n",
        "                         holidays=holiday, \r\n",
        "                         interval_width=0.95)\r\n",
        "    \r\n",
        "    train_model.add_country_holidays(country_name='US')\r\n",
        "    train_model.fit(X_train)\r\n",
        "\r\n",
        "    # train_forecast = train_model.make_future_dataframe(periods=57, freq='D',include_history = False)\r\n",
        "    # train_forecast = train[train['ds']>end]\r\n",
        "    # train_forecast = train_model.predict(train_forecast[])\r\n",
        "\r\n",
        "    train_forecast = train_model.predict(X_test)\r\n",
        "    test_tune=train_forecast[['ds','yhat']]\r\n",
        "    # Actual = train[(train['ds']>strt) & (train['ds']<=end)]\r\n",
        "    Actual = X_test\r\n",
        "\r\n",
        "    # print(Actual['y'].shape,test_tune['yhat'].shape)\r\n",
        "\r\n",
        "    rmse = np.sqrt(mean_squared_error(Actual['y'],test_tune['yhat']))\r\n",
        "    print('RMSE------------------------------------',rmse)\r\n",
        "    model_parameters = model_parameters.append({'RMSE':rmse,'Parameters':p},ignore_index=True)\r\n",
        "    print()\r\n",
        "\r\n",
        "    i = i+1\r\n",
        "\r\n",
        "    # break"
      ],
      "execution_count": null,
      "outputs": [
        {
          "output_type": "stream",
          "text": [
            "Iteration: 1/150\n",
            "{'changepoint_prior_scale': 0.1, 'holidays_prior_scale': 0.1, 'n_changepoints': 100, 'seasonality_mode': 'multiplicative'}\n",
            "RMSE------------------------------------ 3.763294350883831\n",
            "\n",
            "Iteration: 2/150\n",
            "{'changepoint_prior_scale': 0.1, 'holidays_prior_scale': 0.1, 'n_changepoints': 100, 'seasonality_mode': 'additive'}\n",
            "RMSE------------------------------------ 3.8416786686986497\n",
            "\n",
            "Iteration: 3/150\n",
            "{'changepoint_prior_scale': 0.1, 'holidays_prior_scale': 0.1, 'n_changepoints': 150, 'seasonality_mode': 'multiplicative'}\n",
            "RMSE------------------------------------ 3.7561671819466316\n",
            "\n",
            "Iteration: 4/150\n",
            "{'changepoint_prior_scale': 0.1, 'holidays_prior_scale': 0.1, 'n_changepoints': 150, 'seasonality_mode': 'additive'}\n",
            "RMSE------------------------------------ 3.8370438139542453\n",
            "\n",
            "Iteration: 5/150\n",
            "{'changepoint_prior_scale': 0.1, 'holidays_prior_scale': 0.1, 'n_changepoints': 200, 'seasonality_mode': 'multiplicative'}\n",
            "RMSE------------------------------------ 3.7689571207603643\n",
            "\n",
            "Iteration: 6/150\n",
            "{'changepoint_prior_scale': 0.1, 'holidays_prior_scale': 0.1, 'n_changepoints': 200, 'seasonality_mode': 'additive'}\n",
            "RMSE------------------------------------ 3.841109540800526\n",
            "\n",
            "Iteration: 7/150\n",
            "{'changepoint_prior_scale': 0.1, 'holidays_prior_scale': 0.2, 'n_changepoints': 100, 'seasonality_mode': 'multiplicative'}\n",
            "RMSE------------------------------------ 3.792942727580653\n",
            "\n",
            "Iteration: 8/150\n",
            "{'changepoint_prior_scale': 0.1, 'holidays_prior_scale': 0.2, 'n_changepoints': 100, 'seasonality_mode': 'additive'}\n",
            "RMSE------------------------------------ 3.865916259609547\n",
            "\n",
            "Iteration: 9/150\n",
            "{'changepoint_prior_scale': 0.1, 'holidays_prior_scale': 0.2, 'n_changepoints': 150, 'seasonality_mode': 'multiplicative'}\n",
            "RMSE------------------------------------ 3.7896602474153664\n",
            "\n",
            "Iteration: 10/150\n",
            "{'changepoint_prior_scale': 0.1, 'holidays_prior_scale': 0.2, 'n_changepoints': 150, 'seasonality_mode': 'additive'}\n",
            "RMSE------------------------------------ 3.8638563202630105\n",
            "\n",
            "Iteration: 11/150\n",
            "{'changepoint_prior_scale': 0.1, 'holidays_prior_scale': 0.2, 'n_changepoints': 200, 'seasonality_mode': 'multiplicative'}\n",
            "RMSE------------------------------------ 3.7900262351973506\n",
            "\n",
            "Iteration: 12/150\n",
            "{'changepoint_prior_scale': 0.1, 'holidays_prior_scale': 0.2, 'n_changepoints': 200, 'seasonality_mode': 'additive'}\n",
            "RMSE------------------------------------ 3.8628893141392227\n",
            "\n",
            "Iteration: 13/150\n",
            "{'changepoint_prior_scale': 0.1, 'holidays_prior_scale': 0.3, 'n_changepoints': 100, 'seasonality_mode': 'multiplicative'}\n",
            "RMSE------------------------------------ 3.7953261736207495\n",
            "\n",
            "Iteration: 14/150\n",
            "{'changepoint_prior_scale': 0.1, 'holidays_prior_scale': 0.3, 'n_changepoints': 100, 'seasonality_mode': 'additive'}\n",
            "RMSE------------------------------------ 3.8787905912748197\n",
            "\n",
            "Iteration: 15/150\n",
            "{'changepoint_prior_scale': 0.1, 'holidays_prior_scale': 0.3, 'n_changepoints': 150, 'seasonality_mode': 'multiplicative'}\n",
            "RMSE------------------------------------ 3.7982800472667972\n",
            "\n",
            "Iteration: 16/150\n",
            "{'changepoint_prior_scale': 0.1, 'holidays_prior_scale': 0.3, 'n_changepoints': 150, 'seasonality_mode': 'additive'}\n",
            "RMSE------------------------------------ 3.872455530305827\n",
            "\n",
            "Iteration: 17/150\n",
            "{'changepoint_prior_scale': 0.1, 'holidays_prior_scale': 0.3, 'n_changepoints': 200, 'seasonality_mode': 'multiplicative'}\n",
            "RMSE------------------------------------ 3.795655396362351\n",
            "\n",
            "Iteration: 18/150\n",
            "{'changepoint_prior_scale': 0.1, 'holidays_prior_scale': 0.3, 'n_changepoints': 200, 'seasonality_mode': 'additive'}\n",
            "RMSE------------------------------------ 3.8769063771941004\n",
            "\n",
            "Iteration: 19/150\n",
            "{'changepoint_prior_scale': 0.1, 'holidays_prior_scale': 0.4, 'n_changepoints': 100, 'seasonality_mode': 'multiplicative'}\n",
            "RMSE------------------------------------ 3.7979015342835574\n",
            "\n",
            "Iteration: 20/150\n",
            "{'changepoint_prior_scale': 0.1, 'holidays_prior_scale': 0.4, 'n_changepoints': 100, 'seasonality_mode': 'additive'}\n",
            "RMSE------------------------------------ 3.8767374308368594\n",
            "\n",
            "Iteration: 21/150\n",
            "{'changepoint_prior_scale': 0.1, 'holidays_prior_scale': 0.4, 'n_changepoints': 150, 'seasonality_mode': 'multiplicative'}\n",
            "RMSE------------------------------------ 3.7945106212394233\n",
            "\n",
            "Iteration: 22/150\n",
            "{'changepoint_prior_scale': 0.1, 'holidays_prior_scale': 0.4, 'n_changepoints': 150, 'seasonality_mode': 'additive'}\n",
            "RMSE------------------------------------ 3.875293355655317\n",
            "\n",
            "Iteration: 23/150\n",
            "{'changepoint_prior_scale': 0.1, 'holidays_prior_scale': 0.4, 'n_changepoints': 200, 'seasonality_mode': 'multiplicative'}\n",
            "RMSE------------------------------------ 3.790255076204305\n",
            "\n",
            "Iteration: 24/150\n",
            "{'changepoint_prior_scale': 0.1, 'holidays_prior_scale': 0.4, 'n_changepoints': 200, 'seasonality_mode': 'additive'}\n",
            "RMSE------------------------------------ 3.881810731160674\n",
            "\n",
            "Iteration: 25/150\n",
            "{'changepoint_prior_scale': 0.1, 'holidays_prior_scale': 0.5, 'n_changepoints': 100, 'seasonality_mode': 'multiplicative'}\n",
            "RMSE------------------------------------ 3.7944778364048433\n",
            "\n",
            "Iteration: 26/150\n",
            "{'changepoint_prior_scale': 0.1, 'holidays_prior_scale': 0.5, 'n_changepoints': 100, 'seasonality_mode': 'additive'}\n",
            "RMSE------------------------------------ 3.879363952231845\n",
            "\n",
            "Iteration: 27/150\n",
            "{'changepoint_prior_scale': 0.1, 'holidays_prior_scale': 0.5, 'n_changepoints': 150, 'seasonality_mode': 'multiplicative'}\n",
            "RMSE------------------------------------ 3.8031448330052875\n",
            "\n",
            "Iteration: 28/150\n",
            "{'changepoint_prior_scale': 0.1, 'holidays_prior_scale': 0.5, 'n_changepoints': 150, 'seasonality_mode': 'additive'}\n",
            "RMSE------------------------------------ 3.881267005113854\n",
            "\n",
            "Iteration: 29/150\n",
            "{'changepoint_prior_scale': 0.1, 'holidays_prior_scale': 0.5, 'n_changepoints': 200, 'seasonality_mode': 'multiplicative'}\n",
            "RMSE------------------------------------ 3.7876059187228903\n",
            "\n",
            "Iteration: 30/150\n",
            "{'changepoint_prior_scale': 0.1, 'holidays_prior_scale': 0.5, 'n_changepoints': 200, 'seasonality_mode': 'additive'}\n",
            "RMSE------------------------------------ 3.8802131788910654\n",
            "\n",
            "Iteration: 31/150\n",
            "{'changepoint_prior_scale': 0.2, 'holidays_prior_scale': 0.1, 'n_changepoints': 100, 'seasonality_mode': 'multiplicative'}\n",
            "RMSE------------------------------------ 3.781233429838565\n",
            "\n",
            "Iteration: 32/150\n",
            "{'changepoint_prior_scale': 0.2, 'holidays_prior_scale': 0.1, 'n_changepoints': 100, 'seasonality_mode': 'additive'}\n",
            "RMSE------------------------------------ 3.8451614946211343\n",
            "\n",
            "Iteration: 33/150\n",
            "{'changepoint_prior_scale': 0.2, 'holidays_prior_scale': 0.1, 'n_changepoints': 150, 'seasonality_mode': 'multiplicative'}\n",
            "RMSE------------------------------------ 3.780645898665917\n",
            "\n",
            "Iteration: 34/150\n",
            "{'changepoint_prior_scale': 0.2, 'holidays_prior_scale': 0.1, 'n_changepoints': 150, 'seasonality_mode': 'additive'}\n",
            "RMSE------------------------------------ 3.843714814438533\n",
            "\n",
            "Iteration: 35/150\n",
            "{'changepoint_prior_scale': 0.2, 'holidays_prior_scale': 0.1, 'n_changepoints': 200, 'seasonality_mode': 'multiplicative'}\n",
            "RMSE------------------------------------ 3.780228582632819\n",
            "\n",
            "Iteration: 36/150\n",
            "{'changepoint_prior_scale': 0.2, 'holidays_prior_scale': 0.1, 'n_changepoints': 200, 'seasonality_mode': 'additive'}\n",
            "RMSE------------------------------------ 3.8442318767100963\n",
            "\n",
            "Iteration: 37/150\n",
            "{'changepoint_prior_scale': 0.2, 'holidays_prior_scale': 0.2, 'n_changepoints': 100, 'seasonality_mode': 'multiplicative'}\n",
            "RMSE------------------------------------ 3.7966795495057446\n",
            "\n",
            "Iteration: 38/150\n",
            "{'changepoint_prior_scale': 0.2, 'holidays_prior_scale': 0.2, 'n_changepoints': 100, 'seasonality_mode': 'additive'}\n",
            "RMSE------------------------------------ 3.8705320030941657\n",
            "\n",
            "Iteration: 39/150\n",
            "{'changepoint_prior_scale': 0.2, 'holidays_prior_scale': 0.2, 'n_changepoints': 150, 'seasonality_mode': 'multiplicative'}\n",
            "RMSE------------------------------------ 3.797467067722996\n",
            "\n",
            "Iteration: 40/150\n",
            "{'changepoint_prior_scale': 0.2, 'holidays_prior_scale': 0.2, 'n_changepoints': 150, 'seasonality_mode': 'additive'}\n",
            "RMSE------------------------------------ 3.8701984422355964\n",
            "\n",
            "Iteration: 41/150\n",
            "{'changepoint_prior_scale': 0.2, 'holidays_prior_scale': 0.2, 'n_changepoints': 200, 'seasonality_mode': 'multiplicative'}\n",
            "RMSE------------------------------------ 3.793862088108516\n",
            "\n",
            "Iteration: 42/150\n",
            "{'changepoint_prior_scale': 0.2, 'holidays_prior_scale': 0.2, 'n_changepoints': 200, 'seasonality_mode': 'additive'}\n",
            "RMSE------------------------------------ 3.872987339708354\n",
            "\n",
            "Iteration: 43/150\n",
            "{'changepoint_prior_scale': 0.2, 'holidays_prior_scale': 0.3, 'n_changepoints': 100, 'seasonality_mode': 'multiplicative'}\n",
            "RMSE------------------------------------ 3.803517999139085\n",
            "\n",
            "Iteration: 44/150\n",
            "{'changepoint_prior_scale': 0.2, 'holidays_prior_scale': 0.3, 'n_changepoints': 100, 'seasonality_mode': 'additive'}\n",
            "RMSE------------------------------------ 3.8768761706761583\n",
            "\n",
            "Iteration: 45/150\n",
            "{'changepoint_prior_scale': 0.2, 'holidays_prior_scale': 0.3, 'n_changepoints': 150, 'seasonality_mode': 'multiplicative'}\n",
            "RMSE------------------------------------ 3.8025534935643206\n",
            "\n",
            "Iteration: 46/150\n",
            "{'changepoint_prior_scale': 0.2, 'holidays_prior_scale': 0.3, 'n_changepoints': 150, 'seasonality_mode': 'additive'}\n",
            "RMSE------------------------------------ 3.8773765201592796\n",
            "\n",
            "Iteration: 47/150\n",
            "{'changepoint_prior_scale': 0.2, 'holidays_prior_scale': 0.3, 'n_changepoints': 200, 'seasonality_mode': 'multiplicative'}\n",
            "RMSE------------------------------------ 3.8026449010512655\n",
            "\n",
            "Iteration: 48/150\n",
            "{'changepoint_prior_scale': 0.2, 'holidays_prior_scale': 0.3, 'n_changepoints': 200, 'seasonality_mode': 'additive'}\n",
            "RMSE------------------------------------ 3.8765850735727967\n",
            "\n",
            "Iteration: 49/150\n",
            "{'changepoint_prior_scale': 0.2, 'holidays_prior_scale': 0.4, 'n_changepoints': 100, 'seasonality_mode': 'multiplicative'}\n",
            "RMSE------------------------------------ 3.8084057762871644\n",
            "\n",
            "Iteration: 50/150\n",
            "{'changepoint_prior_scale': 0.2, 'holidays_prior_scale': 0.4, 'n_changepoints': 100, 'seasonality_mode': 'additive'}\n",
            "RMSE------------------------------------ 3.8805224914338736\n",
            "\n",
            "Iteration: 51/150\n",
            "{'changepoint_prior_scale': 0.2, 'holidays_prior_scale': 0.4, 'n_changepoints': 150, 'seasonality_mode': 'multiplicative'}\n",
            "RMSE------------------------------------ 3.807521907255332\n",
            "\n",
            "Iteration: 52/150\n",
            "{'changepoint_prior_scale': 0.2, 'holidays_prior_scale': 0.4, 'n_changepoints': 150, 'seasonality_mode': 'additive'}\n",
            "RMSE------------------------------------ 3.880405574383208\n",
            "\n",
            "Iteration: 53/150\n",
            "{'changepoint_prior_scale': 0.2, 'holidays_prior_scale': 0.4, 'n_changepoints': 200, 'seasonality_mode': 'multiplicative'}\n",
            "RMSE------------------------------------ 3.8066286426706974\n",
            "\n",
            "Iteration: 54/150\n",
            "{'changepoint_prior_scale': 0.2, 'holidays_prior_scale': 0.4, 'n_changepoints': 200, 'seasonality_mode': 'additive'}\n",
            "RMSE------------------------------------ 3.8819485793209925\n",
            "\n",
            "Iteration: 55/150\n",
            "{'changepoint_prior_scale': 0.2, 'holidays_prior_scale': 0.5, 'n_changepoints': 100, 'seasonality_mode': 'multiplicative'}\n",
            "RMSE------------------------------------ 3.808771467853422\n",
            "\n",
            "Iteration: 56/150\n",
            "{'changepoint_prior_scale': 0.2, 'holidays_prior_scale': 0.5, 'n_changepoints': 100, 'seasonality_mode': 'additive'}\n",
            "RMSE------------------------------------ 3.883354923412917\n",
            "\n",
            "Iteration: 57/150\n",
            "{'changepoint_prior_scale': 0.2, 'holidays_prior_scale': 0.5, 'n_changepoints': 150, 'seasonality_mode': 'multiplicative'}\n",
            "RMSE------------------------------------ 3.808924106133529\n",
            "\n",
            "Iteration: 58/150\n",
            "{'changepoint_prior_scale': 0.2, 'holidays_prior_scale': 0.5, 'n_changepoints': 150, 'seasonality_mode': 'additive'}\n",
            "RMSE------------------------------------ 3.8826128022733233\n",
            "\n",
            "Iteration: 59/150\n",
            "{'changepoint_prior_scale': 0.2, 'holidays_prior_scale': 0.5, 'n_changepoints': 200, 'seasonality_mode': 'multiplicative'}\n",
            "RMSE------------------------------------ 3.805466657057706\n",
            "\n",
            "Iteration: 60/150\n",
            "{'changepoint_prior_scale': 0.2, 'holidays_prior_scale': 0.5, 'n_changepoints': 200, 'seasonality_mode': 'additive'}\n",
            "RMSE------------------------------------ 3.8817833047547765\n",
            "\n",
            "Iteration: 61/150\n",
            "{'changepoint_prior_scale': 0.3, 'holidays_prior_scale': 0.1, 'n_changepoints': 100, 'seasonality_mode': 'multiplicative'}\n",
            "RMSE------------------------------------ 3.7921471801721425\n",
            "\n",
            "Iteration: 62/150\n",
            "{'changepoint_prior_scale': 0.3, 'holidays_prior_scale': 0.1, 'n_changepoints': 100, 'seasonality_mode': 'additive'}\n",
            "RMSE------------------------------------ 3.8474587945212346\n",
            "\n",
            "Iteration: 63/150\n",
            "{'changepoint_prior_scale': 0.3, 'holidays_prior_scale': 0.1, 'n_changepoints': 150, 'seasonality_mode': 'multiplicative'}\n",
            "RMSE------------------------------------ 3.7908438541433065\n",
            "\n",
            "Iteration: 64/150\n",
            "{'changepoint_prior_scale': 0.3, 'holidays_prior_scale': 0.1, 'n_changepoints': 150, 'seasonality_mode': 'additive'}\n",
            "RMSE------------------------------------ 3.8482378269330666\n",
            "\n",
            "Iteration: 65/150\n",
            "{'changepoint_prior_scale': 0.3, 'holidays_prior_scale': 0.1, 'n_changepoints': 200, 'seasonality_mode': 'multiplicative'}\n",
            "RMSE------------------------------------ 3.790354987138922\n",
            "\n",
            "Iteration: 66/150\n",
            "{'changepoint_prior_scale': 0.3, 'holidays_prior_scale': 0.1, 'n_changepoints': 200, 'seasonality_mode': 'additive'}\n",
            "RMSE------------------------------------ 3.847560234375042\n",
            "\n",
            "Iteration: 67/150\n",
            "{'changepoint_prior_scale': 0.3, 'holidays_prior_scale': 0.2, 'n_changepoints': 100, 'seasonality_mode': 'multiplicative'}\n",
            "RMSE------------------------------------ 3.799420060007475\n",
            "\n",
            "Iteration: 68/150\n",
            "{'changepoint_prior_scale': 0.3, 'holidays_prior_scale': 0.2, 'n_changepoints': 100, 'seasonality_mode': 'additive'}\n",
            "RMSE------------------------------------ 3.8749050127053293\n",
            "\n",
            "Iteration: 69/150\n",
            "{'changepoint_prior_scale': 0.3, 'holidays_prior_scale': 0.2, 'n_changepoints': 150, 'seasonality_mode': 'multiplicative'}\n",
            "RMSE------------------------------------ 3.8043254182528035\n",
            "\n",
            "Iteration: 70/150\n",
            "{'changepoint_prior_scale': 0.3, 'holidays_prior_scale': 0.2, 'n_changepoints': 150, 'seasonality_mode': 'additive'}\n",
            "RMSE------------------------------------ 3.8741423832656223\n",
            "\n",
            "Iteration: 71/150\n",
            "{'changepoint_prior_scale': 0.3, 'holidays_prior_scale': 0.2, 'n_changepoints': 200, 'seasonality_mode': 'multiplicative'}\n",
            "RMSE------------------------------------ 3.801621235135679\n",
            "\n",
            "Iteration: 72/150\n",
            "{'changepoint_prior_scale': 0.3, 'holidays_prior_scale': 0.2, 'n_changepoints': 200, 'seasonality_mode': 'additive'}\n",
            "RMSE------------------------------------ 3.8745981315909765\n",
            "\n",
            "Iteration: 73/150\n",
            "{'changepoint_prior_scale': 0.3, 'holidays_prior_scale': 0.3, 'n_changepoints': 100, 'seasonality_mode': 'multiplicative'}\n",
            "RMSE------------------------------------ 3.805969423272809\n",
            "\n",
            "Iteration: 74/150\n",
            "{'changepoint_prior_scale': 0.3, 'holidays_prior_scale': 0.3, 'n_changepoints': 100, 'seasonality_mode': 'additive'}\n",
            "RMSE------------------------------------ 3.8818281933676904\n",
            "\n",
            "Iteration: 75/150\n",
            "{'changepoint_prior_scale': 0.3, 'holidays_prior_scale': 0.3, 'n_changepoints': 150, 'seasonality_mode': 'multiplicative'}\n",
            "RMSE------------------------------------ 3.8069739571338155\n",
            "\n",
            "Iteration: 76/150\n",
            "{'changepoint_prior_scale': 0.3, 'holidays_prior_scale': 0.3, 'n_changepoints': 150, 'seasonality_mode': 'additive'}\n",
            "RMSE------------------------------------ 3.881239568901803\n",
            "\n",
            "Iteration: 77/150\n",
            "{'changepoint_prior_scale': 0.3, 'holidays_prior_scale': 0.3, 'n_changepoints': 200, 'seasonality_mode': 'multiplicative'}\n",
            "RMSE------------------------------------ 3.8094276960190547\n",
            "\n",
            "Iteration: 78/150\n",
            "{'changepoint_prior_scale': 0.3, 'holidays_prior_scale': 0.3, 'n_changepoints': 200, 'seasonality_mode': 'additive'}\n",
            "RMSE------------------------------------ 3.8822178938742957\n",
            "\n",
            "Iteration: 79/150\n",
            "{'changepoint_prior_scale': 0.3, 'holidays_prior_scale': 0.4, 'n_changepoints': 100, 'seasonality_mode': 'multiplicative'}\n",
            "RMSE------------------------------------ 3.812555694851226\n",
            "\n",
            "Iteration: 80/150\n",
            "{'changepoint_prior_scale': 0.3, 'holidays_prior_scale': 0.4, 'n_changepoints': 100, 'seasonality_mode': 'additive'}\n",
            "RMSE------------------------------------ 3.884733278080235\n",
            "\n",
            "Iteration: 81/150\n",
            "{'changepoint_prior_scale': 0.3, 'holidays_prior_scale': 0.4, 'n_changepoints': 150, 'seasonality_mode': 'multiplicative'}\n",
            "RMSE------------------------------------ 3.8147861248127315\n",
            "\n",
            "Iteration: 82/150\n",
            "{'changepoint_prior_scale': 0.3, 'holidays_prior_scale': 0.4, 'n_changepoints': 150, 'seasonality_mode': 'additive'}\n",
            "RMSE------------------------------------ 3.884774323596504\n",
            "\n",
            "Iteration: 83/150\n",
            "{'changepoint_prior_scale': 0.3, 'holidays_prior_scale': 0.4, 'n_changepoints': 200, 'seasonality_mode': 'multiplicative'}\n",
            "RMSE------------------------------------ 3.8134091835874337\n",
            "\n",
            "Iteration: 84/150\n",
            "{'changepoint_prior_scale': 0.3, 'holidays_prior_scale': 0.4, 'n_changepoints': 200, 'seasonality_mode': 'additive'}\n",
            "RMSE------------------------------------ 3.8833495974392678\n",
            "\n",
            "Iteration: 85/150\n",
            "{'changepoint_prior_scale': 0.3, 'holidays_prior_scale': 0.5, 'n_changepoints': 100, 'seasonality_mode': 'multiplicative'}\n",
            "RMSE------------------------------------ 3.8135159170025985\n",
            "\n",
            "Iteration: 86/150\n",
            "{'changepoint_prior_scale': 0.3, 'holidays_prior_scale': 0.5, 'n_changepoints': 100, 'seasonality_mode': 'additive'}\n",
            "RMSE------------------------------------ 3.886542398191928\n",
            "\n",
            "Iteration: 87/150\n",
            "{'changepoint_prior_scale': 0.3, 'holidays_prior_scale': 0.5, 'n_changepoints': 150, 'seasonality_mode': 'multiplicative'}\n",
            "RMSE------------------------------------ 3.817443834506234\n",
            "\n",
            "Iteration: 88/150\n",
            "{'changepoint_prior_scale': 0.3, 'holidays_prior_scale': 0.5, 'n_changepoints': 150, 'seasonality_mode': 'additive'}\n",
            "RMSE------------------------------------ 3.886509365425894\n",
            "\n",
            "Iteration: 89/150\n",
            "{'changepoint_prior_scale': 0.3, 'holidays_prior_scale': 0.5, 'n_changepoints': 200, 'seasonality_mode': 'multiplicative'}\n",
            "RMSE------------------------------------ 3.8157328327323814\n",
            "\n",
            "Iteration: 90/150\n",
            "{'changepoint_prior_scale': 0.3, 'holidays_prior_scale': 0.5, 'n_changepoints': 200, 'seasonality_mode': 'additive'}\n",
            "RMSE------------------------------------ 3.885726485590202\n",
            "\n",
            "Iteration: 91/150\n",
            "{'changepoint_prior_scale': 0.4, 'holidays_prior_scale': 0.1, 'n_changepoints': 100, 'seasonality_mode': 'multiplicative'}\n",
            "RMSE------------------------------------ 3.794986290662056\n",
            "\n",
            "Iteration: 92/150\n",
            "{'changepoint_prior_scale': 0.4, 'holidays_prior_scale': 0.1, 'n_changepoints': 100, 'seasonality_mode': 'additive'}\n",
            "RMSE------------------------------------ 3.8462719157452914\n",
            "\n",
            "Iteration: 93/150\n",
            "{'changepoint_prior_scale': 0.4, 'holidays_prior_scale': 0.1, 'n_changepoints': 150, 'seasonality_mode': 'multiplicative'}\n",
            "RMSE------------------------------------ 3.796127034708071\n",
            "\n",
            "Iteration: 94/150\n",
            "{'changepoint_prior_scale': 0.4, 'holidays_prior_scale': 0.1, 'n_changepoints': 150, 'seasonality_mode': 'additive'}\n",
            "RMSE------------------------------------ 3.846124594443946\n",
            "\n",
            "Iteration: 95/150\n",
            "{'changepoint_prior_scale': 0.4, 'holidays_prior_scale': 0.1, 'n_changepoints': 200, 'seasonality_mode': 'multiplicative'}\n",
            "RMSE------------------------------------ 3.795675579790428\n",
            "\n",
            "Iteration: 96/150\n",
            "{'changepoint_prior_scale': 0.4, 'holidays_prior_scale': 0.1, 'n_changepoints': 200, 'seasonality_mode': 'additive'}\n",
            "RMSE------------------------------------ 3.8463945850926162\n",
            "\n",
            "Iteration: 97/150\n",
            "{'changepoint_prior_scale': 0.4, 'holidays_prior_scale': 0.2, 'n_changepoints': 100, 'seasonality_mode': 'multiplicative'}\n",
            "RMSE------------------------------------ 3.806673185257518\n",
            "\n",
            "Iteration: 98/150\n",
            "{'changepoint_prior_scale': 0.4, 'holidays_prior_scale': 0.2, 'n_changepoints': 100, 'seasonality_mode': 'additive'}\n",
            "RMSE------------------------------------ 3.87316580314914\n",
            "\n",
            "Iteration: 99/150\n",
            "{'changepoint_prior_scale': 0.4, 'holidays_prior_scale': 0.2, 'n_changepoints': 150, 'seasonality_mode': 'multiplicative'}\n",
            "RMSE------------------------------------ 3.80520680819232\n",
            "\n",
            "Iteration: 100/150\n",
            "{'changepoint_prior_scale': 0.4, 'holidays_prior_scale': 0.2, 'n_changepoints': 150, 'seasonality_mode': 'additive'}\n",
            "RMSE------------------------------------ 3.8723043556421715\n",
            "\n",
            "Iteration: 101/150\n",
            "{'changepoint_prior_scale': 0.4, 'holidays_prior_scale': 0.2, 'n_changepoints': 200, 'seasonality_mode': 'multiplicative'}\n",
            "RMSE------------------------------------ 3.8073251447216827\n",
            "\n",
            "Iteration: 102/150\n",
            "{'changepoint_prior_scale': 0.4, 'holidays_prior_scale': 0.2, 'n_changepoints': 200, 'seasonality_mode': 'additive'}\n",
            "RMSE------------------------------------ 3.8721264701132494\n",
            "\n",
            "Iteration: 103/150\n",
            "{'changepoint_prior_scale': 0.4, 'holidays_prior_scale': 0.3, 'n_changepoints': 100, 'seasonality_mode': 'multiplicative'}\n",
            "RMSE------------------------------------ 3.817221950890497\n",
            "\n",
            "Iteration: 104/150\n",
            "{'changepoint_prior_scale': 0.4, 'holidays_prior_scale': 0.3, 'n_changepoints': 100, 'seasonality_mode': 'additive'}\n",
            "RMSE------------------------------------ 3.8800626426832547\n",
            "\n",
            "Iteration: 105/150\n",
            "{'changepoint_prior_scale': 0.4, 'holidays_prior_scale': 0.3, 'n_changepoints': 150, 'seasonality_mode': 'multiplicative'}\n",
            "RMSE------------------------------------ 3.8795040632323743\n",
            "\n",
            "Iteration: 107/150\n",
            "{'changepoint_prior_scale': 0.4, 'holidays_prior_scale': 0.3, 'n_changepoints': 200, 'seasonality_mode': 'multiplicative'}\n",
            "RMSE------------------------------------ 3.8187145449681026\n",
            "\n",
            "Iteration: 108/150\n",
            "{'changepoint_prior_scale': 0.4, 'holidays_prior_scale': 0.3, 'n_changepoints': 200, 'seasonality_mode': 'additive'}\n",
            "RMSE------------------------------------ 3.8800089884641102\n",
            "\n",
            "Iteration: 109/150\n",
            "{'changepoint_prior_scale': 0.4, 'holidays_prior_scale': 0.4, 'n_changepoints': 100, 'seasonality_mode': 'multiplicative'}\n",
            "RMSE------------------------------------ 3.8218883792858827\n",
            "\n",
            "Iteration: 110/150\n",
            "{'changepoint_prior_scale': 0.4, 'holidays_prior_scale': 0.4, 'n_changepoints': 100, 'seasonality_mode': 'additive'}\n",
            "RMSE------------------------------------ 3.8824812078970896\n",
            "\n",
            "Iteration: 111/150\n",
            "{'changepoint_prior_scale': 0.4, 'holidays_prior_scale': 0.4, 'n_changepoints': 150, 'seasonality_mode': 'multiplicative'}\n",
            "RMSE------------------------------------ 3.8235574166211346\n",
            "\n",
            "Iteration: 112/150\n",
            "{'changepoint_prior_scale': 0.4, 'holidays_prior_scale': 0.4, 'n_changepoints': 150, 'seasonality_mode': 'additive'}\n",
            "RMSE------------------------------------ 3.882767922278639\n",
            "\n",
            "Iteration: 113/150\n",
            "{'changepoint_prior_scale': 0.4, 'holidays_prior_scale': 0.4, 'n_changepoints': 200, 'seasonality_mode': 'multiplicative'}\n",
            "RMSE------------------------------------ 3.823441845539674\n",
            "\n",
            "Iteration: 114/150\n",
            "{'changepoint_prior_scale': 0.4, 'holidays_prior_scale': 0.4, 'n_changepoints': 200, 'seasonality_mode': 'additive'}\n",
            "RMSE------------------------------------ 3.8823839620763927\n",
            "\n",
            "Iteration: 115/150\n",
            "{'changepoint_prior_scale': 0.4, 'holidays_prior_scale': 0.5, 'n_changepoints': 100, 'seasonality_mode': 'multiplicative'}\n",
            "RMSE------------------------------------ 3.821963429320966\n",
            "\n",
            "Iteration: 116/150\n",
            "{'changepoint_prior_scale': 0.4, 'holidays_prior_scale': 0.5, 'n_changepoints': 100, 'seasonality_mode': 'additive'}\n",
            "RMSE------------------------------------ 3.8835704835888185\n",
            "\n",
            "Iteration: 117/150\n",
            "{'changepoint_prior_scale': 0.4, 'holidays_prior_scale': 0.5, 'n_changepoints': 150, 'seasonality_mode': 'multiplicative'}\n",
            "RMSE------------------------------------ 3.8243029141321347\n",
            "\n",
            "Iteration: 118/150\n",
            "{'changepoint_prior_scale': 0.4, 'holidays_prior_scale': 0.5, 'n_changepoints': 150, 'seasonality_mode': 'additive'}\n",
            "RMSE------------------------------------ 3.883362535943324\n",
            "\n",
            "Iteration: 119/150\n",
            "{'changepoint_prior_scale': 0.4, 'holidays_prior_scale': 0.5, 'n_changepoints': 200, 'seasonality_mode': 'multiplicative'}\n",
            "RMSE------------------------------------ 3.824336057396203\n",
            "\n",
            "Iteration: 120/150\n",
            "{'changepoint_prior_scale': 0.4, 'holidays_prior_scale': 0.5, 'n_changepoints': 200, 'seasonality_mode': 'additive'}\n",
            "RMSE------------------------------------ 3.884869047590453\n",
            "\n",
            "Iteration: 121/150\n",
            "{'changepoint_prior_scale': 0.5, 'holidays_prior_scale': 0.1, 'n_changepoints': 100, 'seasonality_mode': 'multiplicative'}\n",
            "RMSE------------------------------------ 3.801285145360105\n",
            "\n",
            "Iteration: 122/150\n",
            "{'changepoint_prior_scale': 0.5, 'holidays_prior_scale': 0.1, 'n_changepoints': 100, 'seasonality_mode': 'additive'}\n",
            "RMSE------------------------------------ 3.844296938215764\n",
            "\n",
            "Iteration: 123/150\n",
            "{'changepoint_prior_scale': 0.5, 'holidays_prior_scale': 0.1, 'n_changepoints': 150, 'seasonality_mode': 'multiplicative'}\n",
            "RMSE------------------------------------ 3.8011133737439793\n",
            "\n",
            "Iteration: 124/150\n",
            "{'changepoint_prior_scale': 0.5, 'holidays_prior_scale': 0.1, 'n_changepoints': 150, 'seasonality_mode': 'additive'}\n",
            "RMSE------------------------------------ 3.8442137006466197\n",
            "\n",
            "Iteration: 125/150\n",
            "{'changepoint_prior_scale': 0.5, 'holidays_prior_scale': 0.1, 'n_changepoints': 200, 'seasonality_mode': 'multiplicative'}\n",
            "RMSE------------------------------------ 3.7994237539472295\n",
            "\n",
            "Iteration: 126/150\n",
            "{'changepoint_prior_scale': 0.5, 'holidays_prior_scale': 0.1, 'n_changepoints': 200, 'seasonality_mode': 'additive'}\n",
            "RMSE------------------------------------ 3.8440930960600186\n",
            "\n",
            "Iteration: 127/150\n",
            "{'changepoint_prior_scale': 0.5, 'holidays_prior_scale': 0.2, 'n_changepoints': 100, 'seasonality_mode': 'multiplicative'}\n",
            "RMSE------------------------------------ 3.8117252501824535\n",
            "\n",
            "Iteration: 128/150\n",
            "{'changepoint_prior_scale': 0.5, 'holidays_prior_scale': 0.2, 'n_changepoints': 100, 'seasonality_mode': 'additive'}\n",
            "RMSE------------------------------------ 3.8703741729815873\n",
            "\n",
            "Iteration: 129/150\n",
            "{'changepoint_prior_scale': 0.5, 'holidays_prior_scale': 0.2, 'n_changepoints': 150, 'seasonality_mode': 'multiplicative'}\n",
            "RMSE------------------------------------ 3.8119790398061775\n",
            "\n",
            "Iteration: 130/150\n",
            "{'changepoint_prior_scale': 0.5, 'holidays_prior_scale': 0.2, 'n_changepoints': 150, 'seasonality_mode': 'additive'}\n",
            "RMSE------------------------------------ 3.8710293724992146\n",
            "\n",
            "Iteration: 131/150\n",
            "{'changepoint_prior_scale': 0.5, 'holidays_prior_scale': 0.2, 'n_changepoints': 200, 'seasonality_mode': 'multiplicative'}\n",
            "RMSE------------------------------------ 3.8110415593395333\n",
            "\n",
            "Iteration: 132/150\n",
            "{'changepoint_prior_scale': 0.5, 'holidays_prior_scale': 0.2, 'n_changepoints': 200, 'seasonality_mode': 'additive'}\n",
            "RMSE------------------------------------ 3.870652349752792\n",
            "\n",
            "Iteration: 133/150\n",
            "{'changepoint_prior_scale': 0.5, 'holidays_prior_scale': 0.3, 'n_changepoints': 100, 'seasonality_mode': 'multiplicative'}\n",
            "RMSE------------------------------------ 3.8218098460220484\n",
            "\n",
            "Iteration: 134/150\n",
            "{'changepoint_prior_scale': 0.5, 'holidays_prior_scale': 0.3, 'n_changepoints': 100, 'seasonality_mode': 'additive'}\n",
            "RMSE------------------------------------ 3.8780602400324646\n",
            "\n",
            "Iteration: 135/150\n",
            "{'changepoint_prior_scale': 0.5, 'holidays_prior_scale': 0.3, 'n_changepoints': 150, 'seasonality_mode': 'multiplicative'}\n",
            "RMSE------------------------------------ 3.8216580522519097\n",
            "\n",
            "Iteration: 136/150\n",
            "{'changepoint_prior_scale': 0.5, 'holidays_prior_scale': 0.3, 'n_changepoints': 150, 'seasonality_mode': 'additive'}\n",
            "RMSE------------------------------------ 3.878182424122352\n",
            "\n",
            "Iteration: 137/150\n",
            "{'changepoint_prior_scale': 0.5, 'holidays_prior_scale': 0.3, 'n_changepoints': 200, 'seasonality_mode': 'multiplicative'}\n",
            "RMSE------------------------------------ 3.82121980666189\n",
            "\n",
            "Iteration: 138/150\n",
            "{'changepoint_prior_scale': 0.5, 'holidays_prior_scale': 0.3, 'n_changepoints': 200, 'seasonality_mode': 'additive'}\n",
            "RMSE------------------------------------ 3.8779563495620106\n",
            "\n",
            "Iteration: 139/150\n",
            "{'changepoint_prior_scale': 0.5, 'holidays_prior_scale': 0.4, 'n_changepoints': 100, 'seasonality_mode': 'multiplicative'}\n",
            "RMSE------------------------------------ 3.8246039361379567\n",
            "\n",
            "Iteration: 140/150\n",
            "{'changepoint_prior_scale': 0.5, 'holidays_prior_scale': 0.4, 'n_changepoints': 100, 'seasonality_mode': 'additive'}\n",
            "RMSE------------------------------------ 3.880695740940949\n",
            "\n",
            "Iteration: 141/150\n",
            "{'changepoint_prior_scale': 0.5, 'holidays_prior_scale': 0.4, 'n_changepoints': 150, 'seasonality_mode': 'multiplicative'}\n",
            "RMSE------------------------------------ 3.814265593187589\n",
            "\n",
            "Iteration: 142/150\n",
            "{'changepoint_prior_scale': 0.5, 'holidays_prior_scale': 0.4, 'n_changepoints': 150, 'seasonality_mode': 'additive'}\n",
            "RMSE------------------------------------ 3.880682198305298\n",
            "\n",
            "Iteration: 143/150\n",
            "{'changepoint_prior_scale': 0.5, 'holidays_prior_scale': 0.4, 'n_changepoints': 200, 'seasonality_mode': 'multiplicative'}\n",
            "RMSE------------------------------------ 3.82066817959295\n",
            "\n",
            "Iteration: 144/150\n",
            "{'changepoint_prior_scale': 0.5, 'holidays_prior_scale': 0.4, 'n_changepoints': 200, 'seasonality_mode': 'additive'}\n",
            "RMSE------------------------------------ 3.8808415864453574\n",
            "\n",
            "Iteration: 145/150\n",
            "{'changepoint_prior_scale': 0.5, 'holidays_prior_scale': 0.5, 'n_changepoints': 100, 'seasonality_mode': 'multiplicative'}\n",
            "RMSE------------------------------------ 3.825221233780067\n",
            "\n",
            "Iteration: 146/150\n",
            "{'changepoint_prior_scale': 0.5, 'holidays_prior_scale': 0.5, 'n_changepoints': 100, 'seasonality_mode': 'additive'}\n",
            "RMSE------------------------------------ 3.8816650686522864\n",
            "\n",
            "Iteration: 147/150\n",
            "{'changepoint_prior_scale': 0.5, 'holidays_prior_scale': 0.5, 'n_changepoints': 150, 'seasonality_mode': 'multiplicative'}\n",
            "RMSE------------------------------------ 3.814570720199661\n",
            "\n",
            "Iteration: 148/150\n",
            "{'changepoint_prior_scale': 0.5, 'holidays_prior_scale': 0.5, 'n_changepoints': 150, 'seasonality_mode': 'additive'}\n",
            "RMSE------------------------------------ 3.8827386785069935\n",
            "\n",
            "Iteration: 149/150\n",
            "{'changepoint_prior_scale': 0.5, 'holidays_prior_scale': 0.5, 'n_changepoints': 200, 'seasonality_mode': 'multiplicative'}\n",
            "RMSE------------------------------------ 3.820530949792118\n",
            "\n",
            "Iteration: 150/150\n",
            "{'changepoint_prior_scale': 0.5, 'holidays_prior_scale': 0.5, 'n_changepoints': 200, 'seasonality_mode': 'additive'}\n",
            "RMSE------------------------------------ 3.8818114240530845\n",
            "\n"
          ],
          "name": "stdout"
        }
      ]
    },
    {
      "cell_type": "code",
      "metadata": {
        "colab": {
          "base_uri": "https://localhost:8080/",
          "height": 191
        },
        "id": "PappT644m6xk",
        "outputId": "0fa97572-fc79-4c0a-aef4-42548ce94bb2"
      },
      "source": [
        "parameters = model_parameters.sort_values(by=['RMSE'])\r\n",
        "parameters = parameters.reset_index(drop=True)\r\n",
        "parameters.head()"
      ],
      "execution_count": null,
      "outputs": [
        {
          "output_type": "execute_result",
          "data": {
            "text/html": [
              "<div>\n",
              "<style scoped>\n",
              "    .dataframe tbody tr th:only-of-type {\n",
              "        vertical-align: middle;\n",
              "    }\n",
              "\n",
              "    .dataframe tbody tr th {\n",
              "        vertical-align: top;\n",
              "    }\n",
              "\n",
              "    .dataframe thead th {\n",
              "        text-align: right;\n",
              "    }\n",
              "</style>\n",
              "<table border=\"1\" class=\"dataframe\">\n",
              "  <thead>\n",
              "    <tr style=\"text-align: right;\">\n",
              "      <th></th>\n",
              "      <th>RMSE</th>\n",
              "      <th>Parameters</th>\n",
              "    </tr>\n",
              "  </thead>\n",
              "  <tbody>\n",
              "    <tr>\n",
              "      <th>0</th>\n",
              "      <td>3.756167</td>\n",
              "      <td>{'changepoint_prior_scale': 0.1, 'holidays_pri...</td>\n",
              "    </tr>\n",
              "    <tr>\n",
              "      <th>1</th>\n",
              "      <td>3.763294</td>\n",
              "      <td>{'changepoint_prior_scale': 0.1, 'holidays_pri...</td>\n",
              "    </tr>\n",
              "    <tr>\n",
              "      <th>2</th>\n",
              "      <td>3.768957</td>\n",
              "      <td>{'changepoint_prior_scale': 0.1, 'holidays_pri...</td>\n",
              "    </tr>\n",
              "    <tr>\n",
              "      <th>3</th>\n",
              "      <td>3.780229</td>\n",
              "      <td>{'changepoint_prior_scale': 0.2, 'holidays_pri...</td>\n",
              "    </tr>\n",
              "    <tr>\n",
              "      <th>4</th>\n",
              "      <td>3.780646</td>\n",
              "      <td>{'changepoint_prior_scale': 0.2, 'holidays_pri...</td>\n",
              "    </tr>\n",
              "  </tbody>\n",
              "</table>\n",
              "</div>"
            ],
            "text/plain": [
              "       RMSE                                         Parameters\n",
              "0  3.756167  {'changepoint_prior_scale': 0.1, 'holidays_pri...\n",
              "1  3.763294  {'changepoint_prior_scale': 0.1, 'holidays_pri...\n",
              "2  3.768957  {'changepoint_prior_scale': 0.1, 'holidays_pri...\n",
              "3  3.780229  {'changepoint_prior_scale': 0.2, 'holidays_pri...\n",
              "4  3.780646  {'changepoint_prior_scale': 0.2, 'holidays_pri..."
            ]
          },
          "metadata": {
            "tags": []
          },
          "execution_count": 26
        }
      ]
    },
    {
      "cell_type": "code",
      "metadata": {
        "colab": {
          "base_uri": "https://localhost:8080/"
        },
        "id": "AOpHNqnJnEuf",
        "outputId": "36bcc8a3-8c29-461d-dad1-be6f3267efbf"
      },
      "source": [
        "parameters['Parameters'][0]"
      ],
      "execution_count": null,
      "outputs": [
        {
          "output_type": "execute_result",
          "data": {
            "text/plain": [
              "{'changepoint_prior_scale': 0.1,\n",
              " 'holidays_prior_scale': 0.1,\n",
              " 'n_changepoints': 150,\n",
              " 'seasonality_mode': 'multiplicative'}"
            ]
          },
          "metadata": {
            "tags": []
          },
          "execution_count": 27
        }
      ]
    },
    {
      "cell_type": "code",
      "metadata": {
        "colab": {
          "base_uri": "https://localhost:8080/"
        },
        "id": "dMjIM_s4nKsY",
        "outputId": "35a86cfb-463d-4415-861e-9f594b85aa58"
      },
      "source": [
        "# Setup and train model with holidays\r\n",
        "final_model = Prophet(holidays=holiday,\r\n",
        "                      changepoint_prior_scale= 0.1,\r\n",
        "                      holidays_prior_scale = 0.1,\r\n",
        "                      n_changepoints = 150,\r\n",
        "                      seasonality_mode = 'multiplicative',\r\n",
        "                      weekly_seasonality=True,\r\n",
        "                      daily_seasonality = True,\r\n",
        "                      yearly_seasonality = True,\r\n",
        "                      interval_width=0.95)\r\n",
        "final_model.add_country_holidays(country_name='US')\r\n",
        "final_model.fit(X_train)"
      ],
      "execution_count": null,
      "outputs": [
        {
          "output_type": "execute_result",
          "data": {
            "text/plain": [
              "<fbprophet.forecaster.Prophet at 0x7f6bf5404a10>"
            ]
          },
          "metadata": {
            "tags": []
          },
          "execution_count": 28
        }
      ]
    },
    {
      "cell_type": "code",
      "metadata": {
        "colab": {
          "base_uri": "https://localhost:8080/",
          "height": 357
        },
        "id": "jMP1KVkrnukm",
        "outputId": "0466d1d2-5ba5-4211-eb1b-95214ea50b20"
      },
      "source": [
        "tuned_pred.head()"
      ],
      "execution_count": null,
      "outputs": [
        {
          "output_type": "execute_result",
          "data": {
            "text/html": [
              "<div>\n",
              "<style scoped>\n",
              "    .dataframe tbody tr th:only-of-type {\n",
              "        vertical-align: middle;\n",
              "    }\n",
              "\n",
              "    .dataframe tbody tr th {\n",
              "        vertical-align: top;\n",
              "    }\n",
              "\n",
              "    .dataframe thead th {\n",
              "        text-align: right;\n",
              "    }\n",
              "</style>\n",
              "<table border=\"1\" class=\"dataframe\">\n",
              "  <thead>\n",
              "    <tr style=\"text-align: right;\">\n",
              "      <th></th>\n",
              "      <th>ds</th>\n",
              "      <th>trend</th>\n",
              "      <th>yhat_lower</th>\n",
              "      <th>yhat_upper</th>\n",
              "      <th>trend_lower</th>\n",
              "      <th>trend_upper</th>\n",
              "      <th>Christmas Day</th>\n",
              "      <th>Christmas Day_lower</th>\n",
              "      <th>Christmas Day_upper</th>\n",
              "      <th>Christmas Day (Observed)</th>\n",
              "      <th>Christmas Day (Observed)_lower</th>\n",
              "      <th>Christmas Day (Observed)_upper</th>\n",
              "      <th>Columbus Day</th>\n",
              "      <th>Columbus Day_lower</th>\n",
              "      <th>Columbus Day_upper</th>\n",
              "      <th>Independence Day</th>\n",
              "      <th>Independence Day_lower</th>\n",
              "      <th>Independence Day_upper</th>\n",
              "      <th>Independence Day (Observed)</th>\n",
              "      <th>Independence Day (Observed)_lower</th>\n",
              "      <th>Independence Day (Observed)_upper</th>\n",
              "      <th>Labor Day</th>\n",
              "      <th>Labor Day_lower</th>\n",
              "      <th>Labor Day_upper</th>\n",
              "      <th>Martin Luther King Jr. Day</th>\n",
              "      <th>Martin Luther King Jr. Day_lower</th>\n",
              "      <th>Martin Luther King Jr. Day_upper</th>\n",
              "      <th>Memorial Day</th>\n",
              "      <th>Memorial Day_lower</th>\n",
              "      <th>Memorial Day_upper</th>\n",
              "      <th>New Year's Day</th>\n",
              "      <th>New Year's Day_lower</th>\n",
              "      <th>New Year's Day_upper</th>\n",
              "      <th>New Year's Day (Observed)</th>\n",
              "      <th>New Year's Day (Observed)_lower</th>\n",
              "      <th>New Year's Day (Observed)_upper</th>\n",
              "      <th>Thanksgiving</th>\n",
              "      <th>Thanksgiving_lower</th>\n",
              "      <th>Thanksgiving_upper</th>\n",
              "      <th>US-Holidays</th>\n",
              "      <th>US-Holidays_lower</th>\n",
              "      <th>US-Holidays_upper</th>\n",
              "      <th>Veterans Day</th>\n",
              "      <th>Veterans Day_lower</th>\n",
              "      <th>Veterans Day_upper</th>\n",
              "      <th>Veterans Day (Observed)</th>\n",
              "      <th>Veterans Day (Observed)_lower</th>\n",
              "      <th>Veterans Day (Observed)_upper</th>\n",
              "      <th>Washington's Birthday</th>\n",
              "      <th>Washington's Birthday_lower</th>\n",
              "      <th>Washington's Birthday_upper</th>\n",
              "      <th>daily</th>\n",
              "      <th>daily_lower</th>\n",
              "      <th>daily_upper</th>\n",
              "      <th>holidays</th>\n",
              "      <th>holidays_lower</th>\n",
              "      <th>holidays_upper</th>\n",
              "      <th>multiplicative_terms</th>\n",
              "      <th>multiplicative_terms_lower</th>\n",
              "      <th>multiplicative_terms_upper</th>\n",
              "      <th>weekly</th>\n",
              "      <th>weekly_lower</th>\n",
              "      <th>weekly_upper</th>\n",
              "      <th>yearly</th>\n",
              "      <th>yearly_lower</th>\n",
              "      <th>yearly_upper</th>\n",
              "      <th>additive_terms</th>\n",
              "      <th>additive_terms_lower</th>\n",
              "      <th>additive_terms_upper</th>\n",
              "      <th>yhat</th>\n",
              "    </tr>\n",
              "  </thead>\n",
              "  <tbody>\n",
              "    <tr>\n",
              "      <th>0</th>\n",
              "      <td>2009-01-01</td>\n",
              "      <td>60.061898</td>\n",
              "      <td>-6.848631</td>\n",
              "      <td>18.236525</td>\n",
              "      <td>60.061898</td>\n",
              "      <td>60.061898</td>\n",
              "      <td>0.0</td>\n",
              "      <td>0.0</td>\n",
              "      <td>0.0</td>\n",
              "      <td>0.0</td>\n",
              "      <td>0.0</td>\n",
              "      <td>0.0</td>\n",
              "      <td>0.0</td>\n",
              "      <td>0.0</td>\n",
              "      <td>0.0</td>\n",
              "      <td>0.0</td>\n",
              "      <td>0.0</td>\n",
              "      <td>0.0</td>\n",
              "      <td>0.0</td>\n",
              "      <td>0.0</td>\n",
              "      <td>0.0</td>\n",
              "      <td>0.0</td>\n",
              "      <td>0.0</td>\n",
              "      <td>0.0</td>\n",
              "      <td>0.0</td>\n",
              "      <td>0.0</td>\n",
              "      <td>0.0</td>\n",
              "      <td>0.0</td>\n",
              "      <td>0.0</td>\n",
              "      <td>0.0</td>\n",
              "      <td>-0.071119</td>\n",
              "      <td>-0.071119</td>\n",
              "      <td>-0.071119</td>\n",
              "      <td>0.0</td>\n",
              "      <td>0.0</td>\n",
              "      <td>0.0</td>\n",
              "      <td>0.0</td>\n",
              "      <td>0.0</td>\n",
              "      <td>0.0</td>\n",
              "      <td>0.0</td>\n",
              "      <td>0.0</td>\n",
              "      <td>0.0</td>\n",
              "      <td>0.0</td>\n",
              "      <td>0.0</td>\n",
              "      <td>0.0</td>\n",
              "      <td>0.0</td>\n",
              "      <td>0.0</td>\n",
              "      <td>0.0</td>\n",
              "      <td>0.0</td>\n",
              "      <td>0.0</td>\n",
              "      <td>0.0</td>\n",
              "      <td>-0.731401</td>\n",
              "      <td>-0.731401</td>\n",
              "      <td>-0.731401</td>\n",
              "      <td>-0.071119</td>\n",
              "      <td>-0.071119</td>\n",
              "      <td>-0.071119</td>\n",
              "      <td>-0.898713</td>\n",
              "      <td>-0.898713</td>\n",
              "      <td>-0.898713</td>\n",
              "      <td>0.000544</td>\n",
              "      <td>0.000544</td>\n",
              "      <td>0.000544</td>\n",
              "      <td>-0.096737</td>\n",
              "      <td>-0.096737</td>\n",
              "      <td>-0.096737</td>\n",
              "      <td>0.0</td>\n",
              "      <td>0.0</td>\n",
              "      <td>0.0</td>\n",
              "      <td>6.083490</td>\n",
              "    </tr>\n",
              "    <tr>\n",
              "      <th>1</th>\n",
              "      <td>2009-01-02</td>\n",
              "      <td>60.062172</td>\n",
              "      <td>-3.127776</td>\n",
              "      <td>23.708247</td>\n",
              "      <td>60.062172</td>\n",
              "      <td>60.062172</td>\n",
              "      <td>0.0</td>\n",
              "      <td>0.0</td>\n",
              "      <td>0.0</td>\n",
              "      <td>0.0</td>\n",
              "      <td>0.0</td>\n",
              "      <td>0.0</td>\n",
              "      <td>0.0</td>\n",
              "      <td>0.0</td>\n",
              "      <td>0.0</td>\n",
              "      <td>0.0</td>\n",
              "      <td>0.0</td>\n",
              "      <td>0.0</td>\n",
              "      <td>0.0</td>\n",
              "      <td>0.0</td>\n",
              "      <td>0.0</td>\n",
              "      <td>0.0</td>\n",
              "      <td>0.0</td>\n",
              "      <td>0.0</td>\n",
              "      <td>0.0</td>\n",
              "      <td>0.0</td>\n",
              "      <td>0.0</td>\n",
              "      <td>0.0</td>\n",
              "      <td>0.0</td>\n",
              "      <td>0.0</td>\n",
              "      <td>0.000000</td>\n",
              "      <td>0.000000</td>\n",
              "      <td>0.000000</td>\n",
              "      <td>0.0</td>\n",
              "      <td>0.0</td>\n",
              "      <td>0.0</td>\n",
              "      <td>0.0</td>\n",
              "      <td>0.0</td>\n",
              "      <td>0.0</td>\n",
              "      <td>0.0</td>\n",
              "      <td>0.0</td>\n",
              "      <td>0.0</td>\n",
              "      <td>0.0</td>\n",
              "      <td>0.0</td>\n",
              "      <td>0.0</td>\n",
              "      <td>0.0</td>\n",
              "      <td>0.0</td>\n",
              "      <td>0.0</td>\n",
              "      <td>0.0</td>\n",
              "      <td>0.0</td>\n",
              "      <td>0.0</td>\n",
              "      <td>-0.731401</td>\n",
              "      <td>-0.731401</td>\n",
              "      <td>-0.731401</td>\n",
              "      <td>0.000000</td>\n",
              "      <td>0.000000</td>\n",
              "      <td>0.000000</td>\n",
              "      <td>-0.825947</td>\n",
              "      <td>-0.825947</td>\n",
              "      <td>-0.825947</td>\n",
              "      <td>0.001443</td>\n",
              "      <td>0.001443</td>\n",
              "      <td>0.001443</td>\n",
              "      <td>-0.095989</td>\n",
              "      <td>-0.095989</td>\n",
              "      <td>-0.095989</td>\n",
              "      <td>0.0</td>\n",
              "      <td>0.0</td>\n",
              "      <td>0.0</td>\n",
              "      <td>10.454005</td>\n",
              "    </tr>\n",
              "    <tr>\n",
              "      <th>2</th>\n",
              "      <td>2009-01-03</td>\n",
              "      <td>60.062447</td>\n",
              "      <td>-1.013002</td>\n",
              "      <td>23.218266</td>\n",
              "      <td>60.062447</td>\n",
              "      <td>60.062447</td>\n",
              "      <td>0.0</td>\n",
              "      <td>0.0</td>\n",
              "      <td>0.0</td>\n",
              "      <td>0.0</td>\n",
              "      <td>0.0</td>\n",
              "      <td>0.0</td>\n",
              "      <td>0.0</td>\n",
              "      <td>0.0</td>\n",
              "      <td>0.0</td>\n",
              "      <td>0.0</td>\n",
              "      <td>0.0</td>\n",
              "      <td>0.0</td>\n",
              "      <td>0.0</td>\n",
              "      <td>0.0</td>\n",
              "      <td>0.0</td>\n",
              "      <td>0.0</td>\n",
              "      <td>0.0</td>\n",
              "      <td>0.0</td>\n",
              "      <td>0.0</td>\n",
              "      <td>0.0</td>\n",
              "      <td>0.0</td>\n",
              "      <td>0.0</td>\n",
              "      <td>0.0</td>\n",
              "      <td>0.0</td>\n",
              "      <td>0.000000</td>\n",
              "      <td>0.000000</td>\n",
              "      <td>0.000000</td>\n",
              "      <td>0.0</td>\n",
              "      <td>0.0</td>\n",
              "      <td>0.0</td>\n",
              "      <td>0.0</td>\n",
              "      <td>0.0</td>\n",
              "      <td>0.0</td>\n",
              "      <td>0.0</td>\n",
              "      <td>0.0</td>\n",
              "      <td>0.0</td>\n",
              "      <td>0.0</td>\n",
              "      <td>0.0</td>\n",
              "      <td>0.0</td>\n",
              "      <td>0.0</td>\n",
              "      <td>0.0</td>\n",
              "      <td>0.0</td>\n",
              "      <td>0.0</td>\n",
              "      <td>0.0</td>\n",
              "      <td>0.0</td>\n",
              "      <td>-0.731401</td>\n",
              "      <td>-0.731401</td>\n",
              "      <td>-0.731401</td>\n",
              "      <td>0.000000</td>\n",
              "      <td>0.000000</td>\n",
              "      <td>0.000000</td>\n",
              "      <td>-0.828088</td>\n",
              "      <td>-0.828088</td>\n",
              "      <td>-0.828088</td>\n",
              "      <td>-0.001362</td>\n",
              "      <td>-0.001362</td>\n",
              "      <td>-0.001362</td>\n",
              "      <td>-0.095325</td>\n",
              "      <td>-0.095325</td>\n",
              "      <td>-0.095325</td>\n",
              "      <td>0.0</td>\n",
              "      <td>0.0</td>\n",
              "      <td>0.0</td>\n",
              "      <td>10.325480</td>\n",
              "    </tr>\n",
              "    <tr>\n",
              "      <th>3</th>\n",
              "      <td>2009-01-04</td>\n",
              "      <td>60.062721</td>\n",
              "      <td>-1.982208</td>\n",
              "      <td>23.077641</td>\n",
              "      <td>60.062721</td>\n",
              "      <td>60.062721</td>\n",
              "      <td>0.0</td>\n",
              "      <td>0.0</td>\n",
              "      <td>0.0</td>\n",
              "      <td>0.0</td>\n",
              "      <td>0.0</td>\n",
              "      <td>0.0</td>\n",
              "      <td>0.0</td>\n",
              "      <td>0.0</td>\n",
              "      <td>0.0</td>\n",
              "      <td>0.0</td>\n",
              "      <td>0.0</td>\n",
              "      <td>0.0</td>\n",
              "      <td>0.0</td>\n",
              "      <td>0.0</td>\n",
              "      <td>0.0</td>\n",
              "      <td>0.0</td>\n",
              "      <td>0.0</td>\n",
              "      <td>0.0</td>\n",
              "      <td>0.0</td>\n",
              "      <td>0.0</td>\n",
              "      <td>0.0</td>\n",
              "      <td>0.0</td>\n",
              "      <td>0.0</td>\n",
              "      <td>0.0</td>\n",
              "      <td>0.000000</td>\n",
              "      <td>0.000000</td>\n",
              "      <td>0.000000</td>\n",
              "      <td>0.0</td>\n",
              "      <td>0.0</td>\n",
              "      <td>0.0</td>\n",
              "      <td>0.0</td>\n",
              "      <td>0.0</td>\n",
              "      <td>0.0</td>\n",
              "      <td>0.0</td>\n",
              "      <td>0.0</td>\n",
              "      <td>0.0</td>\n",
              "      <td>0.0</td>\n",
              "      <td>0.0</td>\n",
              "      <td>0.0</td>\n",
              "      <td>0.0</td>\n",
              "      <td>0.0</td>\n",
              "      <td>0.0</td>\n",
              "      <td>0.0</td>\n",
              "      <td>0.0</td>\n",
              "      <td>0.0</td>\n",
              "      <td>-0.731401</td>\n",
              "      <td>-0.731401</td>\n",
              "      <td>-0.731401</td>\n",
              "      <td>0.000000</td>\n",
              "      <td>0.000000</td>\n",
              "      <td>0.000000</td>\n",
              "      <td>-0.828894</td>\n",
              "      <td>-0.828894</td>\n",
              "      <td>-0.828894</td>\n",
              "      <td>-0.002705</td>\n",
              "      <td>-0.002705</td>\n",
              "      <td>-0.002705</td>\n",
              "      <td>-0.094788</td>\n",
              "      <td>-0.094788</td>\n",
              "      <td>-0.094788</td>\n",
              "      <td>0.0</td>\n",
              "      <td>0.0</td>\n",
              "      <td>0.0</td>\n",
              "      <td>10.277075</td>\n",
              "    </tr>\n",
              "    <tr>\n",
              "      <th>4</th>\n",
              "      <td>2009-01-05</td>\n",
              "      <td>60.062995</td>\n",
              "      <td>-1.407925</td>\n",
              "      <td>22.866679</td>\n",
              "      <td>60.062995</td>\n",
              "      <td>60.062996</td>\n",
              "      <td>0.0</td>\n",
              "      <td>0.0</td>\n",
              "      <td>0.0</td>\n",
              "      <td>0.0</td>\n",
              "      <td>0.0</td>\n",
              "      <td>0.0</td>\n",
              "      <td>0.0</td>\n",
              "      <td>0.0</td>\n",
              "      <td>0.0</td>\n",
              "      <td>0.0</td>\n",
              "      <td>0.0</td>\n",
              "      <td>0.0</td>\n",
              "      <td>0.0</td>\n",
              "      <td>0.0</td>\n",
              "      <td>0.0</td>\n",
              "      <td>0.0</td>\n",
              "      <td>0.0</td>\n",
              "      <td>0.0</td>\n",
              "      <td>0.0</td>\n",
              "      <td>0.0</td>\n",
              "      <td>0.0</td>\n",
              "      <td>0.0</td>\n",
              "      <td>0.0</td>\n",
              "      <td>0.0</td>\n",
              "      <td>0.000000</td>\n",
              "      <td>0.000000</td>\n",
              "      <td>0.000000</td>\n",
              "      <td>0.0</td>\n",
              "      <td>0.0</td>\n",
              "      <td>0.0</td>\n",
              "      <td>0.0</td>\n",
              "      <td>0.0</td>\n",
              "      <td>0.0</td>\n",
              "      <td>0.0</td>\n",
              "      <td>0.0</td>\n",
              "      <td>0.0</td>\n",
              "      <td>0.0</td>\n",
              "      <td>0.0</td>\n",
              "      <td>0.0</td>\n",
              "      <td>0.0</td>\n",
              "      <td>0.0</td>\n",
              "      <td>0.0</td>\n",
              "      <td>0.0</td>\n",
              "      <td>0.0</td>\n",
              "      <td>0.0</td>\n",
              "      <td>-0.731401</td>\n",
              "      <td>-0.731401</td>\n",
              "      <td>-0.731401</td>\n",
              "      <td>0.000000</td>\n",
              "      <td>0.000000</td>\n",
              "      <td>0.000000</td>\n",
              "      <td>-0.821947</td>\n",
              "      <td>-0.821947</td>\n",
              "      <td>-0.821947</td>\n",
              "      <td>0.003874</td>\n",
              "      <td>0.003874</td>\n",
              "      <td>0.003874</td>\n",
              "      <td>-0.094420</td>\n",
              "      <td>-0.094420</td>\n",
              "      <td>-0.094420</td>\n",
              "      <td>0.0</td>\n",
              "      <td>0.0</td>\n",
              "      <td>0.0</td>\n",
              "      <td>10.694384</td>\n",
              "    </tr>\n",
              "  </tbody>\n",
              "</table>\n",
              "</div>"
            ],
            "text/plain": [
              "          ds      trend  ...  additive_terms_upper       yhat\n",
              "0 2009-01-01  60.061898  ...                   0.0   6.083490\n",
              "1 2009-01-02  60.062172  ...                   0.0  10.454005\n",
              "2 2009-01-03  60.062447  ...                   0.0  10.325480\n",
              "3 2009-01-04  60.062721  ...                   0.0  10.277075\n",
              "4 2009-01-05  60.062995  ...                   0.0  10.694384\n",
              "\n",
              "[5 rows x 70 columns]"
            ]
          },
          "metadata": {
            "tags": []
          },
          "execution_count": 30
        }
      ]
    },
    {
      "cell_type": "code",
      "metadata": {
        "colab": {
          "base_uri": "https://localhost:8080/"
        },
        "id": "r2ycKqa1nZcp",
        "outputId": "2b5d81f8-7f69-42ce-8f4f-695696611052"
      },
      "source": [
        "tuned_pred = final_model.predict(X_test)\r\n",
        "prophet_rmse(tuned_pred['yhat'], X_test['y'])"
      ],
      "execution_count": null,
      "outputs": [
        {
          "output_type": "execute_result",
          "data": {
            "text/plain": [
              "3.7561671819466316"
            ]
          },
          "metadata": {
            "tags": []
          },
          "execution_count": 31
        }
      ]
    },
    {
      "cell_type": "markdown",
      "metadata": {
        "id": "Rk5t06chZw7M"
      },
      "source": [
        "## TBATS"
      ]
    },
    {
      "cell_type": "markdown",
      "metadata": {
        "id": "O6eytkx6fFiu"
      },
      "source": [
        "There are two interesting time series forecasting methods called BATS and TBATS that are capable of modeling time series with multiple seasonalities.\r\n",
        "The names are acronyms for key features of the models: Trigonometric seasonality, Box-Cox transformation, ARMA errors, Trend and Seasonal components.\r\n",
        "TBATS model takes it roots in exponential smoothing methods and can be described by the following equations:\r\n",
        "![](https://miro.medium.com/max/700/1*yfruZnSYsNt1X1uyag46eQ.png)\r\n",
        "\r\n",
        "Each seasonality is modeled by a trigonometric representation based on Fourier series. One major advantage of this approach is that it requires only 2 seed states regardless of the length of period. Another advantage is the ability to model seasonal effects of non-integer lengths. For example, given a series of daily observations, one can model leap years with a season of length 365.25.\r\n",
        "BATS differs from TBATS only in the way it models seasonal effects. In BATS we have a more traditional approach where each seasonality is modeled by:\r\n",
        "![](https://miro.medium.com/max/700/1*D8KY2jQRmVRLHY5f4RNqKA.png)\r\n",
        "\r\n",
        "This implies that BATS can only model integer period lengths. Approach taken in BATS requires m_i seed states for season i, if this season is long the model may become intractable.\r\n",
        "\r\n",
        "**RESOURCES:**\r\n",
        "1. [Documentation](https://pypi.org/project/tbats/)\r\n",
        "2. [Forecasting Time Series with Multiple Seasonalities using TBATS in Python](https://medium.com/intive-developers/forecasting-time-series-with-multiple-seasonalities-using-tbats-in-python-398a00ac0e8a)\r\n",
        "3. [Time-Series Forecasting using TBATS model](https://blog.tenthplanet.in/time-series-forecasting-tbats/)\r\n"
      ]
    },
    {
      "cell_type": "code",
      "metadata": {
        "id": "c1WyMniFaCV6"
      },
      "source": [
        "!pip install tbats"
      ],
      "execution_count": null,
      "outputs": []
    },
    {
      "cell_type": "code",
      "metadata": {
        "id": "uHyG-k7LahbN"
      },
      "source": [
        "train, test, submission = load_data()\r\n",
        "train['date'] = pd.to_datetime(train['date'])\r\n",
        "\r\n",
        "END_DATE = '2009'\r\n",
        "X_train = train[train['date'] <= END_DATE]\r\n",
        "X_test = train[train['date'] >= END_DATE]"
      ],
      "execution_count": null,
      "outputs": []
    },
    {
      "cell_type": "code",
      "metadata": {
        "colab": {
          "base_uri": "https://localhost:8080/",
          "height": 191
        },
        "id": "UlQI3Zxxa6GC",
        "outputId": "9c28b314-4f0b-46d5-a093-303706c14285"
      },
      "source": [
        "X_train.head()"
      ],
      "execution_count": null,
      "outputs": [
        {
          "output_type": "execute_result",
          "data": {
            "text/html": [
              "<div>\n",
              "<style scoped>\n",
              "    .dataframe tbody tr th:only-of-type {\n",
              "        vertical-align: middle;\n",
              "    }\n",
              "\n",
              "    .dataframe tbody tr th {\n",
              "        vertical-align: top;\n",
              "    }\n",
              "\n",
              "    .dataframe thead th {\n",
              "        text-align: right;\n",
              "    }\n",
              "</style>\n",
              "<table border=\"1\" class=\"dataframe\">\n",
              "  <thead>\n",
              "    <tr style=\"text-align: right;\">\n",
              "      <th></th>\n",
              "      <th>date</th>\n",
              "      <th>temp</th>\n",
              "    </tr>\n",
              "  </thead>\n",
              "  <tbody>\n",
              "    <tr>\n",
              "      <th>0</th>\n",
              "      <td>1980-01-01</td>\n",
              "      <td>4.16</td>\n",
              "    </tr>\n",
              "    <tr>\n",
              "      <th>1</th>\n",
              "      <td>1980-02-01</td>\n",
              "      <td>4.06</td>\n",
              "    </tr>\n",
              "    <tr>\n",
              "      <th>2</th>\n",
              "      <td>1980-03-01</td>\n",
              "      <td>7.12</td>\n",
              "    </tr>\n",
              "    <tr>\n",
              "      <th>3</th>\n",
              "      <td>1980-04-01</td>\n",
              "      <td>9.23</td>\n",
              "    </tr>\n",
              "    <tr>\n",
              "      <th>4</th>\n",
              "      <td>1980-05-01</td>\n",
              "      <td>3.20</td>\n",
              "    </tr>\n",
              "  </tbody>\n",
              "</table>\n",
              "</div>"
            ],
            "text/plain": [
              "        date  temp\n",
              "0 1980-01-01  4.16\n",
              "1 1980-02-01  4.06\n",
              "2 1980-03-01  7.12\n",
              "3 1980-04-01  9.23\n",
              "4 1980-05-01  3.20"
            ]
          },
          "metadata": {
            "tags": []
          },
          "execution_count": 17
        }
      ]
    },
    {
      "cell_type": "code",
      "metadata": {
        "colab": {
          "base_uri": "https://localhost:8080/"
        },
        "id": "IISDKdwFbTV5",
        "outputId": "8319421f-9747-46ae-c63a-4a79cc0cc77b"
      },
      "source": [
        "X_train.shape"
      ],
      "execution_count": null,
      "outputs": [
        {
          "output_type": "execute_result",
          "data": {
            "text/plain": [
              "(10594, 2)"
            ]
          },
          "metadata": {
            "tags": []
          },
          "execution_count": 19
        }
      ]
    },
    {
      "cell_type": "code",
      "metadata": {
        "id": "cBftbN84b8U1"
      },
      "source": [
        "X_train.set_index('date', inplace = True)"
      ],
      "execution_count": null,
      "outputs": []
    },
    {
      "cell_type": "code",
      "metadata": {
        "id": "pvICFDDCcDcr"
      },
      "source": [
        "X_test.set_index('date', inplace = True)"
      ],
      "execution_count": null,
      "outputs": []
    },
    {
      "cell_type": "code",
      "metadata": {
        "id": "gMKLKr-7aFIC"
      },
      "source": [
        "from tbats import TBATS, BATS\r\n",
        "\r\n",
        "estimator = TBATS(seasonal_periods = (7, 365.25)  )\r\n",
        "model = estimator.fit(X_train)"
      ],
      "execution_count": null,
      "outputs": []
    },
    {
      "cell_type": "markdown",
      "metadata": {
        "id": "3vIEtU_Yf3Dv"
      },
      "source": [
        "## End Notes\r\n",
        "\r\n",
        "There are many more methods that you may try out such as using XGBRegressor, LSTM, etc. For me FBProphet worked best so I worked more on it.\r\n",
        "\r\n",
        "ARIMA and TBATS are computationally expensive, so be careful while implementing them. "
      ]
    }
  ]
}